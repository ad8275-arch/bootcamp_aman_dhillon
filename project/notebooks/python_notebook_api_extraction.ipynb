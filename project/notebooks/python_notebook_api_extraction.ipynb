{
 "cells": [
  {
   "cell_type": "code",
   "execution_count": 42,
   "id": "782598ad",
   "metadata": {},
   "outputs": [
    {
     "name": "stdout",
     "output_type": "stream",
     "text": [
      "Data directory: /Users/aman/Desktop/Bootcamp/bootcamp_aman_dhillon/project/notebooks/../data/raw\n",
      "Loaded ALPHAVANTAGE_API_KEY? True\n"
     ]
    }
   ],
   "source": [
    "# Import required libraries\n",
    "import os\n",
    "import json\n",
    "import time\n",
    "import datetime as dt\n",
    "import csv\n",
    "import pathlib\n",
    "from typing import Dict, List\n",
    "import requests\n",
    "import pandas as pd\n",
    "from bs4 import BeautifulSoup\n",
    "from dotenv import load_dotenv\n",
    "\n",
    "# Setup data directories\n",
    "DATA_RAW = pathlib.Path(\"../data/raw\")\n",
    "DATA_RAW.mkdir(parents=True, exist_ok=True)\n",
    "\n",
    "print(f\"Data directory: {DATA_RAW.absolute()}\")\n",
    "\n",
    "# Load environment variables\n",
    "load_dotenv()\n",
    "ALPHA_KEY = os.getenv(\"ALPHAVANTAGE_API_KEY\")\n",
    "print(\"Loaded ALPHAVANTAGE_API_KEY?\", bool(ALPHA_KEY))\n",
    "\n"
   ]
  },
  {
   "cell_type": "code",
   "execution_count": 43,
   "id": "ce4cfe91",
   "metadata": {},
   "outputs": [
    {
     "name": "stdout",
     "output_type": "stream",
     "text": [
      "✅ Saved 250 days of SPY data to: spy_stock_1year_20250821_165509.csv\n",
      "Date range: 2024-08-21 to 2025-08-20\n",
      "Latest close: $638.11\n",
      "Latest adj_close: $636.80\n"
     ]
    }
   ],
   "source": [
    "# Simple SPY stock data extraction with adjusted close\n",
    "import requests\n",
    "import pandas as pd\n",
    "from pathlib import Path\n",
    "import os\n",
    "from dotenv import load_dotenv\n",
    "from datetime import datetime\n",
    "\n",
    "# Load API key\n",
    "load_dotenv()\n",
    "POLYGON_KEY = os.getenv(\"POLYGON_API_KEY\")\n",
    "\n",
    "# Setup\n",
    "SYMBOL = \"SPY\"\n",
    "DATA_RAW = Path(\"../data/raw\")\n",
    "DATA_RAW.mkdir(parents=True, exist_ok=True)\n",
    "\n",
    "# Get 1 year of stock data\n",
    "end_date = datetime.now().strftime(\"%Y-%m-%d\")\n",
    "start_date = (datetime.now() - pd.DateOffset(years=1)).strftime(\"%Y-%m-%d\")\n",
    "\n",
    "url = f\"https://api.polygon.io/v2/aggs/ticker/{SYMBOL}/range/1/day/{start_date}/{end_date}\"\n",
    "params = {\"apiKey\": POLYGON_KEY}\n",
    "\n",
    "try:\n",
    "    response = requests.get(url, params=params, timeout=30)\n",
    "    response.raise_for_status()\n",
    "    data = response.json()\n",
    "    \n",
    "    if data.get(\"status\") in [\"OK\", \"DELAYED\"] and data.get(\"results\"):\n",
    "        df = pd.DataFrame(data[\"results\"])\n",
    "        df['date'] = pd.to_datetime(df['t'], unit='ms')\n",
    "        \n",
    "        # Include adjusted close (vw = volume weighted average price)\n",
    "        df = df[['date', 'o', 'h', 'l', 'c', 'v', 'vw']].rename(columns={\n",
    "            'o': 'open', 'h': 'high', 'l': 'low', 'c': 'close', 'v': 'volume', 'vw': 'adj_close'\n",
    "        })\n",
    "        \n",
    "        # Save data\n",
    "        timestamp = datetime.now().strftime(\"%Y%m%d_%H%M%S\")\n",
    "        filename = f\"spy_stock_1year_{timestamp}.csv\"\n",
    "        filepath = DATA_RAW / filename\n",
    "        df.to_csv(filepath, index=False)\n",
    "        \n",
    "        print(f\"✅ Saved {len(df)} days of SPY data to: {filename}\")\n",
    "        print(f\"Date range: {df['date'].min().date()} to {df['date'].max().date()}\")\n",
    "        print(f\"Latest close: ${df['close'].iloc[-1]:.2f}\")\n",
    "        print(f\"Latest adj_close: ${df['adj_close'].iloc[-1]:.2f}\")\n",
    "        \n",
    "    else:\n",
    "        print(\"❌ No data received\")\n",
    "        \n",
    "except Exception as e:\n",
    "    print(f\"❌ Error: {e}\")"
   ]
  },
  {
   "cell_type": "code",
   "execution_count": 82,
   "id": "9d84fa62",
   "metadata": {},
   "outputs": [
    {
     "name": "stdout",
     "output_type": "stream",
     "text": [
      "SPY options for 2025-08-25:\n",
      "Calls: 73 | Puts: 83\n",
      "Call columns: ['contractSymbol', 'lastTradeDate', 'strike', 'lastPrice', 'bid', 'ask', 'change', 'percentChange', 'volume', 'openInterest', 'impliedVolatility', 'inTheMoney', 'contractSize', 'currency']\n",
      "Put columns: ['contractSymbol', 'lastTradeDate', 'strike', 'lastPrice', 'bid', 'ask', 'change', 'percentChange', 'volume', 'openInterest', 'impliedVolatility', 'inTheMoney', 'contractSize', 'currency']\n",
      "\n",
      "Sample call option:\n",
      "       contractSymbol             lastTradeDate  strike  lastPrice     bid  \\\n",
      "0  SPY250825C00530000 2025-08-22 13:30:03+00:00   530.0     106.25  113.98   \n",
      "\n",
      "      ask    change  percentChange  volume  openInterest  impliedVolatility  \\\n",
      "0  116.78 -9.190002      -7.960848    11.0            11           0.841798   \n",
      "\n",
      "   inTheMoney contractSize currency  \n",
      "0        True      REGULAR      USD  \n"
     ]
    }
   ],
   "source": [
    "# yfinance options - shortest code\n",
    "import yfinance as yf\n",
    "\n",
    "# Get options for SPY\n",
    "ticker = yf.Ticker(\"SPY\")\n",
    "options = ticker.options\n",
    "\n",
    "if options:\n",
    "    # Get first expiration date\n",
    "    opt = ticker.option_chain(options[0])\n",
    "    \n",
    "    print(f\"SPY options for {options[0]}:\")\n",
    "    print(f\"Calls: {len(opt.calls)} | Puts: {len(opt.puts)}\")\n",
    "    print(f\"Call columns: {list(opt.calls.columns)}\")\n",
    "    print(f\"Put columns: {list(opt.puts.columns)}\")\n",
    "    \n",
    "    # Show sample data\n",
    "    print(f\"\\nSample call option:\")\n",
    "    print(opt.calls.head(1))\n",
    "else:\n",
    "    print(\"No options found\")"
   ]
  },
  {
   "cell_type": "code",
   "execution_count": null,
   "id": "16f6b8a6",
   "metadata": {},
   "outputs": [],
   "source": []
  }
 ],
 "metadata": {
  "kernelspec": {
   "display_name": "bootcamp_env",
   "language": "python",
   "name": "python3"
  },
  "language_info": {
   "codemirror_mode": {
    "name": "ipython",
    "version": 3
   },
   "file_extension": ".py",
   "mimetype": "text/x-python",
   "name": "python",
   "nbconvert_exporter": "python",
   "pygments_lexer": "ipython3",
   "version": "3.11.13"
  }
 },
 "nbformat": 4,
 "nbformat_minor": 5
}
