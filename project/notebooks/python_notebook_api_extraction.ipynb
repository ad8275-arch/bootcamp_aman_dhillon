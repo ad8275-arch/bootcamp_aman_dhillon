{
 "cells": [
  {
   "cell_type": "code",
   "execution_count": 22,
   "id": "782598ad",
   "metadata": {},
   "outputs": [
    {
     "name": "stdout",
     "output_type": "stream",
     "text": [
      "Data directory: /Users/aman/Desktop/Bootcamp/bootcamp_aman_dhillon/project/notebooks/../data/raw\n",
      "Loaded ALPHAVANTAGE_API_KEY? True\n"
     ]
    }
   ],
   "source": [
    "# Import required libraries\n",
    "import os\n",
    "import json\n",
    "import time\n",
    "import datetime as dt\n",
    "import csv\n",
    "import pathlib\n",
    "from typing import Dict, List\n",
    "import requests\n",
    "import pandas as pd\n",
    "from bs4 import BeautifulSoup\n",
    "from dotenv import load_dotenv\n",
    "\n",
    "# Setup data directories\n",
    "DATA_RAW = pathlib.Path(\"../data/raw\")\n",
    "DATA_RAW.mkdir(parents=True, exist_ok=True)\n",
    "\n",
    "print(f\"Data directory: {DATA_RAW.absolute()}\")\n",
    "\n",
    "# Load environment variables\n",
    "load_dotenv()\n",
    "ALPHA_KEY = os.getenv(\"ALPHAVANTAGE_API_KEY\")\n",
    "print(\"Loaded ALPHAVANTAGE_API_KEY?\", bool(ALPHA_KEY))\n",
    "\n"
   ]
  },
  {
   "cell_type": "code",
   "execution_count": 23,
   "id": "ce4cfe91",
   "metadata": {},
   "outputs": [
    {
     "name": "stdout",
     "output_type": "stream",
     "text": [
      "✅ Saved 250 days of SPY data to: spy_stock_1year_20250823_202340.csv\n",
      "Date range: 2024-08-23 to 2025-08-22\n",
      "Latest close: $645.31\n",
      "Latest adj_close: $644.08\n"
     ]
    }
   ],
   "source": [
    "# Simple SPY stock data extraction with adjusted close\n",
    "import requests\n",
    "import pandas as pd\n",
    "from pathlib import Path\n",
    "import os\n",
    "from dotenv import load_dotenv\n",
    "from datetime import datetime\n",
    "\n",
    "# Load API key\n",
    "load_dotenv()\n",
    "POLYGON_KEY = os.getenv(\"POLYGON_API_KEY\")\n",
    "\n",
    "# Setup\n",
    "SYMBOL = \"SPY\"\n",
    "DATA_RAW = Path(\"../data/raw\")\n",
    "DATA_RAW.mkdir(parents=True, exist_ok=True)\n",
    "\n",
    "# Get 1 year of stock data\n",
    "end_date = datetime.now().strftime(\"%Y-%m-%d\")\n",
    "start_date = (datetime.now() - pd.DateOffset(years=1)).strftime(\"%Y-%m-%d\")\n",
    "\n",
    "url = f\"https://api.polygon.io/v2/aggs/ticker/{SYMBOL}/range/1/day/{start_date}/{end_date}\"\n",
    "params = {\"apiKey\": POLYGON_KEY}\n",
    "\n",
    "try:\n",
    "    response = requests.get(url, params=params, timeout=30)\n",
    "    response.raise_for_status()\n",
    "    data = response.json()\n",
    "    \n",
    "    if data.get(\"status\") in [\"OK\", \"DELAYED\"] and data.get(\"results\"):\n",
    "        df = pd.DataFrame(data[\"results\"])\n",
    "        df['date'] = pd.to_datetime(df['t'], unit='ms')\n",
    "        \n",
    "        # Include adjusted close (vw = volume weighted average price)\n",
    "        df = df[['date', 'o', 'h', 'l', 'c', 'v', 'vw']].rename(columns={\n",
    "            'o': 'open', 'h': 'high', 'l': 'low', 'c': 'close', 'v': 'volume', 'vw': 'adj_close'\n",
    "        })\n",
    "        \n",
    "        # Save data\n",
    "        timestamp = datetime.now().strftime(\"%Y%m%d_%H%M%S\")\n",
    "        filename = f\"spy_stock_1year_{timestamp}.csv\"\n",
    "        filepath = DATA_RAW / filename\n",
    "        df.to_csv(filepath, index=False)\n",
    "        \n",
    "        print(f\"✅ Saved {len(df)} days of SPY data to: {filename}\")\n",
    "        print(f\"Date range: {df['date'].min().date()} to {df['date'].max().date()}\")\n",
    "        print(f\"Latest close: ${df['close'].iloc[-1]:.2f}\")\n",
    "        print(f\"Latest adj_close: ${df['adj_close'].iloc[-1]:.2f}\")\n",
    "        \n",
    "    else:\n",
    "        print(\"❌ No data received\")\n",
    "        \n",
    "except Exception as e:\n",
    "    print(f\"❌ Error: {e}\")"
   ]
  },
  {
   "cell_type": "code",
   "execution_count": 24,
   "id": "3189151c",
   "metadata": {},
   "outputs": [
    {
     "name": "stdout",
     "output_type": "stream",
     "text": [
      "                   date    open     high     low   close      volume  \\\n",
      "0   2024-08-23 04:00:00  559.53  563.090  557.29  562.13  50639393.0   \n",
      "1   2024-08-26 04:00:00  563.18  563.910  559.05  560.79  35788609.0   \n",
      "2   2024-08-27 04:00:00  559.49  562.060  558.32  561.56  32693898.0   \n",
      "3   2024-08-28 04:00:00  561.21  561.650  555.04  558.30  41066024.0   \n",
      "4   2024-08-29 04:00:00  560.31  563.680  557.18  558.35  38715176.0   \n",
      "..                  ...     ...      ...     ...     ...         ...   \n",
      "245 2025-08-18 04:00:00  642.86  644.000  642.18  643.30  43804914.0   \n",
      "246 2025-08-19 04:00:00  643.12  644.105  638.48  639.81  69750731.0   \n",
      "247 2025-08-20 04:00:00  639.40  639.660  632.95  638.11  88890298.0   \n",
      "248 2025-08-21 04:00:00  636.28  637.970  633.81  635.55  54805775.0   \n",
      "249 2025-08-22 04:00:00  637.76  646.500  637.25  645.31  84083214.0   \n",
      "\n",
      "     adj_close  \n",
      "0     560.7801  \n",
      "1     561.1744  \n",
      "2     560.9928  \n",
      "3     558.4289  \n",
      "4     560.1538  \n",
      "..         ...  \n",
      "245   643.1665  \n",
      "246   640.7892  \n",
      "247   636.7957  \n",
      "248   635.9556  \n",
      "249   644.0776  \n",
      "\n",
      "[250 rows x 7 columns]\n"
     ]
    }
   ],
   "source": [
    "print(df)"
   ]
  },
  {
   "cell_type": "code",
   "execution_count": 25,
   "id": "0ec3c801",
   "metadata": {},
   "outputs": [],
   "source": [
    "import yfinance as yf\n",
    "import pandas as pd\n",
    "from typing import List,Dict\n",
    "def get_european_options_data() -> pd.DataFrame:\n",
    "    underlying = ['SPY',]\n",
    "    all_options_data = []\n",
    "    for ticker_symbol in underlying:\n",
    "        print(f\"Fetching data for {ticker_symbol}\") \n",
    "        ticker = yf.Ticker(ticker_symbol)\n",
    "        expirations = ticker.options\n",
    "        for exp in expirations:\n",
    "            options_chain = ticker.option_chain(exp)\n",
    "            \n",
    "        if options_chain.calls is not None:\n",
    "            options_chain.calls['contract_type'] = 'call'\n",
    "            options_chain.calls['underlying_ticker'] = ticker_symbol\n",
    "            options_chain.calls['expiration'] = exp\n",
    "            all_options_data.append(options_chain.calls)\n",
    "            \n",
    "        if options_chain.puts is not None:\n",
    "                options_chain.puts['contract_type'] = 'put'\n",
    "                options_chain.puts['underlying_ticker'] = ticker_symbol\n",
    "                options_chain.puts['expiration'] = exp\n",
    "                all_options_data.append(options_chain.puts)\n",
    "    \n",
    "    df = pd.concat(all_options_data,ignore_index=True)\n",
    "    df.rename(columns={'strike':'strike_price', 'lastPrice':'last_price'},inplace=True)\n",
    "    return df\n",
    "\n"
   ]
  },
  {
   "cell_type": "code",
   "execution_count": 26,
   "id": "aa35c1bc",
   "metadata": {},
   "outputs": [
    {
     "name": "stdout",
     "output_type": "stream",
     "text": [
      "Fetching data for SPY\n"
     ]
    }
   ],
   "source": [
    "df = get_european_options_data()"
   ]
  },
  {
   "cell_type": "code",
   "execution_count": 27,
   "id": "9434f29e",
   "metadata": {},
   "outputs": [
    {
     "name": "stdout",
     "output_type": "stream",
     "text": [
      "         contractSymbol             lastTradeDate  strike_price  last_price  \\\n",
      "0    SPY271217C00200000 2025-08-22 16:05:27+00:00         200.0      452.50   \n",
      "1    SPY271217C00205000 2025-08-22 16:05:27+00:00         205.0      447.62   \n",
      "2    SPY271217C00210000 2025-08-19 14:59:10+00:00         210.0      439.81   \n",
      "3    SPY271217C00215000 2025-07-18 14:34:00+00:00         215.0      423.44   \n",
      "4    SPY271217C00220000 2025-08-13 19:52:31+00:00         220.0      434.00   \n",
      "..                  ...                       ...           ...         ...   \n",
      "283  SPY271217P00910000 2025-06-25 19:40:36+00:00         910.0      303.38   \n",
      "284  SPY271217P00915000 2025-08-22 20:10:39+00:00         915.0      270.06   \n",
      "285  SPY271217P00920000 2025-08-22 19:29:10+00:00         920.0      272.50   \n",
      "286  SPY271217P00935000 2025-07-08 13:35:47+00:00         935.0      312.10   \n",
      "287  SPY271217P01000000 2025-08-13 13:55:07+00:00        1000.0      355.06   \n",
      "\n",
      "        bid     ask     change  percentChange  volume  openInterest  \\\n",
      "0    450.00  453.03  11.000000       2.491506     4.0           312   \n",
      "1    445.50  450.00  16.410004       3.805571     1.0             4   \n",
      "2    441.00  445.50   0.000000       0.000000    99.0           108   \n",
      "3    436.50  441.00   0.000000       0.000000     1.0             3   \n",
      "4    432.00  436.50   0.000000       0.000000    10.0            25   \n",
      "..      ...     ...        ...            ...     ...           ...   \n",
      "283  262.14  267.00   0.000000       0.000000     1.0             0   \n",
      "284  267.14  272.00 -10.459991      -3.728787   180.0            31   \n",
      "285  272.14  277.00  -9.980011      -3.532997    90.0             0   \n",
      "286  287.14  292.00   0.000000       0.000000     NaN             0   \n",
      "287  352.13  357.00   1.079987       0.305098     1.0             0   \n",
      "\n",
      "     impliedVolatility  inTheMoney contractSize currency contract_type  \\\n",
      "0             0.511388        True      REGULAR      USD          call   \n",
      "1             0.529424        True      REGULAR      USD          call   \n",
      "2             0.525701        True      REGULAR      USD          call   \n",
      "3             0.521886        True      REGULAR      USD          call   \n",
      "4             0.517949        True      REGULAR      USD          call   \n",
      "..                 ...         ...          ...      ...           ...   \n",
      "283           0.129892        True      REGULAR      USD           put   \n",
      "284           0.131509        True      REGULAR      USD           put   \n",
      "285           0.133126        True      REGULAR      USD           put   \n",
      "286           0.137872        True      REGULAR      USD           put   \n",
      "287           0.157281        True      REGULAR      USD           put   \n",
      "\n",
      "    underlying_ticker  expiration  \n",
      "0                 SPY  2027-12-17  \n",
      "1                 SPY  2027-12-17  \n",
      "2                 SPY  2027-12-17  \n",
      "3                 SPY  2027-12-17  \n",
      "4                 SPY  2027-12-17  \n",
      "..                ...         ...  \n",
      "283               SPY  2027-12-17  \n",
      "284               SPY  2027-12-17  \n",
      "285               SPY  2027-12-17  \n",
      "286               SPY  2027-12-17  \n",
      "287               SPY  2027-12-17  \n",
      "\n",
      "[288 rows x 17 columns]\n"
     ]
    }
   ],
   "source": [
    "print(df)"
   ]
  },
  {
   "cell_type": "code",
   "execution_count": 28,
   "id": "756af7dd",
   "metadata": {},
   "outputs": [
    {
     "data": {
      "text/plain": [
       "Index(['contractSymbol', 'lastTradeDate', 'strike_price', 'last_price', 'bid',\n",
       "       'ask', 'change', 'percentChange', 'volume', 'openInterest',\n",
       "       'impliedVolatility', 'inTheMoney', 'contractSize', 'currency',\n",
       "       'contract_type', 'underlying_ticker', 'expiration'],\n",
       "      dtype='object')"
      ]
     },
     "execution_count": 28,
     "metadata": {},
     "output_type": "execute_result"
    }
   ],
   "source": [
    "df.columns"
   ]
  },
  {
   "cell_type": "code",
   "execution_count": null,
   "id": "56755d36",
   "metadata": {},
   "outputs": [],
   "source": []
  }
 ],
 "metadata": {
  "kernelspec": {
   "display_name": "env",
   "language": "python",
   "name": "python3"
  },
  "language_info": {
   "codemirror_mode": {
    "name": "ipython",
    "version": 3
   },
   "file_extension": ".py",
   "mimetype": "text/x-python",
   "name": "python",
   "nbconvert_exporter": "python",
   "pygments_lexer": "ipython3",
   "version": "3.13.5"
  }
 },
 "nbformat": 4,
 "nbformat_minor": 5
}
