{
 "cells": [
  {
   "cell_type": "code",
   "execution_count": null,
   "id": "0e031be5",
   "metadata": {},
   "outputs": [],
   "source": [
    "Environment & Config Check"
   ]
  },
  {
   "cell_type": "code",
   "execution_count": 8,
   "id": "2a3b9631",
   "metadata": {},
   "outputs": [
    {
     "name": "stdout",
     "output_type": "stream",
     "text": [
      "API Key Present\n"
     ]
    }
   ],
   "source": [
    "import os \n",
    "from dotenv import load_dotenv\n",
    "load_dotenv()\n",
    "api_key = os.getenv('API_KEY')\n",
    "if api_key:\n",
    "    print(\"API Key Present\")\n",
    "else: \n",
    "    print(\"API not present\")"
   ]
  },
  {
   "cell_type": "code",
   "execution_count": 12,
   "id": "e03d6a52",
   "metadata": {},
   "outputs": [
    {
     "name": "stdout",
     "output_type": "stream",
     "text": [
      "[6, 8, 46, 24, 8]\n"
     ]
    }
   ],
   "source": [
    "import numpy as np\n",
    "a = np.array([3, 4, 23, 12, 2, 4])\n",
    "result = [int(c * 2) for c in a if c > 2]\n",
    "print(result)"
   ]
  }
 ],
 "metadata": {
  "kernelspec": {
   "display_name": "env",
   "language": "python",
   "name": "python3"
  },
  "language_info": {
   "codemirror_mode": {
    "name": "ipython",
    "version": 3
   },
   "file_extension": ".py",
   "mimetype": "text/x-python",
   "name": "python",
   "nbconvert_exporter": "python",
   "pygments_lexer": "ipython3",
   "version": "3.13.5"
  }
 },
 "nbformat": 4,
 "nbformat_minor": 5
}
