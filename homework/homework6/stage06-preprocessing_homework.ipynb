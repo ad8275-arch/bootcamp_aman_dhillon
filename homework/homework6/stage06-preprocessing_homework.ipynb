{
 "cells": [
  {
   "cell_type": "code",
   "execution_count": 2,
   "id": "5f21ac88",
   "metadata": {},
   "outputs": [],
   "source": [
    "import os\n",
    "import pandas as pd\n",
    "import numpy as np\n",
    "import pathlib"
   ]
  },
  {
   "cell_type": "code",
   "execution_count": 3,
   "id": "521a8a73",
   "metadata": {},
   "outputs": [],
   "source": [
    "raw_path = \"../data/raw\"\n",
    "processed_path = \"../data/processed\"\n",
    "os.makedirs(raw_path,exist_ok=True)\n",
    "os.makedirs(processed_path,exist_ok=True)\n"
   ]
  },
  {
   "cell_type": "markdown",
   "id": "76f7ee43",
   "metadata": {},
   "source": [
    "Creating Dataframe and introducing some random nan in it"
   ]
  },
  {
   "cell_type": "code",
   "execution_count": 4,
   "id": "e95c02f7",
   "metadata": {},
   "outputs": [],
   "source": [
    "np.random.seed(42)  \n",
    "n = 400 \n",
    "\n",
    "data = {\n",
    "    \"id\": range(1, n+1),\n",
    "    \"age\": np.random.randint(18, 65, n).astype(float),  # ages between 18–64\n",
    "    \"salary\": np.random.randint(30000, 120000, n).astype(float),  # salary range\n",
    "    \"department\": np.random.choice([\"HR\", \"IT\", \"Finance\", \"Marketing\", \"Sales\"], n),\n",
    "    \"rating\": np.round(np.random.uniform(1, 5, n), 2),  # 1–5 scale\n",
    "    \"city\": np.random.choice([\"New York\", \"SF\", \"Austin\", \"Chicago\", \"LA\", \"New Jersey\", \"Illinois\"], n),\n",
    "    \"bonus_pct\": np.round(np.random.uniform(0.05, 0.3, n), 2),  # 5–30% bonus\n",
    "}\n",
    "\n",
    "df = pd.DataFrame(data)\n",
    "\n",
    "\n",
    "for col in [\"age\", \"salary\", \"rating\", \"bonus_pct\"]:\n",
    "    df.loc[df.sample(frac=0.2).index, col] = np.nan  # ~20% NaNs"
   ]
  },
  {
   "cell_type": "code",
   "execution_count": 5,
   "id": "75cf7829",
   "metadata": {},
   "outputs": [],
   "source": [
    "csv_path = os.path.join(raw_path,'sample.csv')\n",
    "df.to_csv(csv_path,index=False)"
   ]
  },
  {
   "cell_type": "code",
   "execution_count": 6,
   "id": "fedfcf8b",
   "metadata": {},
   "outputs": [],
   "source": [
    "import pandas as pd\n",
    "from src import cleaning"
   ]
  },
  {
   "cell_type": "code",
   "execution_count": 7,
   "id": "5286285a",
   "metadata": {},
   "outputs": [
    {
     "data": {
      "text/html": [
       "<div>\n",
       "<style scoped>\n",
       "    .dataframe tbody tr th:only-of-type {\n",
       "        vertical-align: middle;\n",
       "    }\n",
       "\n",
       "    .dataframe tbody tr th {\n",
       "        vertical-align: top;\n",
       "    }\n",
       "\n",
       "    .dataframe thead th {\n",
       "        text-align: right;\n",
       "    }\n",
       "</style>\n",
       "<table border=\"1\" class=\"dataframe\">\n",
       "  <thead>\n",
       "    <tr style=\"text-align: right;\">\n",
       "      <th></th>\n",
       "      <th>id</th>\n",
       "      <th>age</th>\n",
       "      <th>salary</th>\n",
       "      <th>department</th>\n",
       "      <th>rating</th>\n",
       "      <th>city</th>\n",
       "      <th>bonus_pct</th>\n",
       "    </tr>\n",
       "  </thead>\n",
       "  <tbody>\n",
       "    <tr>\n",
       "      <th>0</th>\n",
       "      <td>1</td>\n",
       "      <td>56.0</td>\n",
       "      <td>82921.0</td>\n",
       "      <td>IT</td>\n",
       "      <td>3.67</td>\n",
       "      <td>SF</td>\n",
       "      <td>0.27</td>\n",
       "    </tr>\n",
       "    <tr>\n",
       "      <th>1</th>\n",
       "      <td>2</td>\n",
       "      <td>46.0</td>\n",
       "      <td>79726.0</td>\n",
       "      <td>IT</td>\n",
       "      <td>1.82</td>\n",
       "      <td>Illinois</td>\n",
       "      <td>0.11</td>\n",
       "    </tr>\n",
       "    <tr>\n",
       "      <th>2</th>\n",
       "      <td>3</td>\n",
       "      <td>32.0</td>\n",
       "      <td>80300.0</td>\n",
       "      <td>IT</td>\n",
       "      <td>2.17</td>\n",
       "      <td>SF</td>\n",
       "      <td>0.28</td>\n",
       "    </tr>\n",
       "    <tr>\n",
       "      <th>3</th>\n",
       "      <td>4</td>\n",
       "      <td>60.0</td>\n",
       "      <td>52677.0</td>\n",
       "      <td>Finance</td>\n",
       "      <td>4.59</td>\n",
       "      <td>SF</td>\n",
       "      <td>0.07</td>\n",
       "    </tr>\n",
       "    <tr>\n",
       "      <th>4</th>\n",
       "      <td>5</td>\n",
       "      <td>25.0</td>\n",
       "      <td>NaN</td>\n",
       "      <td>Finance</td>\n",
       "      <td>NaN</td>\n",
       "      <td>Illinois</td>\n",
       "      <td>0.28</td>\n",
       "    </tr>\n",
       "  </tbody>\n",
       "</table>\n",
       "</div>"
      ],
      "text/plain": [
       "   id   age   salary department  rating      city  bonus_pct\n",
       "0   1  56.0  82921.0         IT    3.67        SF       0.27\n",
       "1   2  46.0  79726.0         IT    1.82  Illinois       0.11\n",
       "2   3  32.0  80300.0         IT    2.17        SF       0.28\n",
       "3   4  60.0  52677.0    Finance    4.59        SF       0.07\n",
       "4   5  25.0      NaN    Finance     NaN  Illinois       0.28"
      ]
     },
     "execution_count": 7,
     "metadata": {},
     "output_type": "execute_result"
    }
   ],
   "source": [
    "df = pd.read_csv('../data/raw/sample.csv')\n",
    "df.head()"
   ]
  },
  {
   "cell_type": "markdown",
   "id": "2eb3b716",
   "metadata": {},
   "source": [
    "Cleaning using function defined in cleaning.py"
   ]
  },
  {
   "cell_type": "code",
   "execution_count": 8,
   "id": "df042a95",
   "metadata": {},
   "outputs": [],
   "source": [
    "df = cleaning.fill_missing_median(df, ['age','salary'])\n",
    "df = cleaning.drop_missing(df, threshold=0.5)\n",
    "df = cleaning.normalize_data(df, ['age','salary','rating','bonus_pct'])"
   ]
  },
  {
   "cell_type": "code",
   "execution_count": 9,
   "id": "27459474",
   "metadata": {},
   "outputs": [],
   "source": [
    "df.to_csv('../data/processed/sample_data_cleaned.csv', index=False)"
   ]
  },
  {
   "cell_type": "code",
   "execution_count": null,
   "id": "8966ab2d",
   "metadata": {},
   "outputs": [],
   "source": []
  }
 ],
 "metadata": {
  "kernelspec": {
   "display_name": "env",
   "language": "python",
   "name": "python3"
  },
  "language_info": {
   "codemirror_mode": {
    "name": "ipython",
    "version": 3
   },
   "file_extension": ".py",
   "mimetype": "text/x-python",
   "name": "python",
   "nbconvert_exporter": "python",
   "pygments_lexer": "ipython3",
   "version": "3.13.5"
  }
 },
 "nbformat": 4,
 "nbformat_minor": 5
}
