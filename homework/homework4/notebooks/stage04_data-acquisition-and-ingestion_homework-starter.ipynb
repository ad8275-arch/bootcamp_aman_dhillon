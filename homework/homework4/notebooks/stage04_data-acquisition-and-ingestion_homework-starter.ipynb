{
 "cells": [
  {
   "cell_type": "code",
   "execution_count": 10,
   "id": "88770f4d",
   "metadata": {},
   "outputs": [],
   "source": [
    "import os, json, time, datetime as dt, csv, pathlib\n",
    "from typing import Dict, List\n",
    "import requests\n",
    "import pandas as pd\n",
    "import bs4 as BeautifulSoup\n",
    "from dotenv import load_dotenv\n",
    "import yfinance as yf"
   ]
  },
  {
   "cell_type": "code",
   "execution_count": 11,
   "id": "5bed22a3",
   "metadata": {},
   "outputs": [
    {
     "name": "stdout",
     "output_type": "stream",
     "text": [
      "Your key is Imported : True\n"
     ]
    }
   ],
   "source": [
    "DATA_PATH = pathlib.Path('../data/raw')\n",
    "DATA_PATH.mkdir(parents=True, exist_ok=True)\n",
    "load_dotenv()\n",
    "API_Key = os.getenv('ALPHAVANTAGE_API_KEY')\n",
    "print(\"Your key is Imported :\" , bool(API_Key))"
   ]
  },
  {
   "cell_type": "code",
   "execution_count": 12,
   "id": "f1176bdb",
   "metadata": {},
   "outputs": [],
   "source": [
    "def time_stamp():\n",
    "    return dt.datetime.now().strftime('%m%d%Y-%H%M%S')"
   ]
  },
  {
   "cell_type": "code",
   "execution_count": 13,
   "id": "aedd7cc7",
   "metadata": {},
   "outputs": [],
   "source": [
    "def save_csv_file(df:pd.DataFrame,prefix:str,meta:Dict[str,str]):\n",
    "    mid = '_'.join([f\"{k}-{v}\" for k,v in meta.items()])\n",
    "    return f\"{prefix}_{mid}_{time_stamp()}.csv\""
   ]
  },
  {
   "cell_type": "code",
   "execution_count": 14,
   "id": "7d2d2f40",
   "metadata": {},
   "outputs": [],
   "source": [
    "def validate(df:pd.DataFrame, required_columns):\n",
    "    missing = [c for c in required_columns if c not in df.columns]\n",
    "    return {\"Missing columns\": missing, 'Dataframe_Shape':df.shape,'Na_total':int(df.isna().sum().sum())}"
   ]
  },
  {
   "cell_type": "code",
   "execution_count": 15,
   "id": "b4cbcf29",
   "metadata": {},
   "outputs": [
    {
     "name": "stdout",
     "output_type": "stream",
     "text": [
      "{'Missing columns': [], 'Dataframe_Shape': (182, 6), 'Na_total': 0}\n",
      "Saved: ../data/raw/api_source-alpha_symbol-TSLA_08202025-195121.csv\n"
     ]
    }
   ],
   "source": [
    "SYMBOL = 'TSLA'\n",
    "USE_ALPHA = bool(os.getenv('ALPHAVANTAGE_API_KEY'))\n",
    "if USE_ALPHA:\n",
    "    url = 'https://www.alphavantage.co/query'\n",
    "    params = {'function':'TIME_SERIES_MONTHLY','symbol':SYMBOL,'apikey':os.getenv('ALPHAVANTAGE_API_KEY')}\n",
    "    r = requests.get(url, params=params, timeout=30)\n",
    "    r.raise_for_status()\n",
    "    js = r.json()\n",
    "    ts_key = [k for k in js.keys() if \"Time Series\" in k]\n",
    "    time_series = js[ts_key[0]]\n",
    "    df_api = pd.DataFrame.from_dict(time_series, orient=\"index\")\n",
    "    df_api.columns = [col.split(\". \")[1] if \". \" in col else col for col in df_api.columns]\n",
    "    df_api.index = pd.to_datetime(df_api.index)\n",
    "    df_api = df_api.reset_index().rename(columns={'index': 'date'})\n",
    "else:\n",
    "    import yfinance as yf\n",
    "    df_api = yf.download(SYMBOL, period='max', interval='1mo')\n",
    "    # df_api.columns = ['date','adj_close']\n",
    "\n",
    "validate_api = validate(df_api, ['date', 'open', 'high', 'low', 'close'])\n",
    "print(validate_api)\n",
    "fname = save_csv_file(df_api, \"api\", {\"source\": \"alpha\" if USE_ALPHA else \"yfinance\", \"symbol\": SYMBOL})\n",
    "out_path = DATA_PATH / fname\n",
    "df_api.to_csv(out_path, index=False)\n",
    "print(\"Saved:\", out_path)\n",
    "\n"
   ]
  },
  {
   "cell_type": "code",
   "execution_count": 16,
   "id": "dde42401",
   "metadata": {},
   "outputs": [],
   "source": [
    "from bs4 import BeautifulSoup\n"
   ]
  },
  {
   "cell_type": "code",
   "execution_count": 17,
   "id": "04376b37",
   "metadata": {},
   "outputs": [
    {
     "name": "stdout",
     "output_type": "stream",
     "text": [
      "Saved: ../data/raw/scrape_site-example_table-markets_08202025-195121.csv\n"
     ]
    }
   ],
   "source": [
    "SCRAPE_URL = \"https://en.wikipedia.org/wiki/List_of_S%26P_500_companies\"  # replace with permitted page\n",
    "headers = {\"User-Agent\": \"AFE-Course-Notebook/1.0\"}\n",
    "try:\n",
    "    resp = requests.get(SCRAPE_URL, headers=headers, timeout=30)\n",
    "    resp.raise_for_status()\n",
    "    soup = BeautifulSoup(resp.text, 'html.parser')\n",
    "    table = soup.find('table')\n",
    "    rows = []\n",
    "    for tr in table.find_all('tr'):\n",
    "        cells = [td.get_text(strip=True) for td in tr.find_all(['td','th'])]\n",
    "        if cells:\n",
    "            rows.append(cells)\n",
    "    # assume first row is header\n",
    "    header, *data = rows\n",
    "    df_scrape = pd.DataFrame(data, columns=header)\n",
    "except Exception as e:\n",
    "    print(\"Scrape failed (demoing with inline HTML).\", e)\n",
    "    html = \"\"\"\n",
    "    <table>\n",
    "      <tr><th>Ticker</th><th>Price</th></tr>\n",
    "      <tr><td>AAA</td><td>101.2</td></tr>\n",
    "      <tr><td>BBB</td><td>98.7</td></tr>\n",
    "    </table>\n",
    "    \"\"\"\n",
    "    soup = BeautifulSoup(html, 'html.parser')\n",
    "    rows = []\n",
    "    for tr in soup.find_all('tr'):\n",
    "        cells = [td.get_text(strip=True) for td in tr.find_all(['td','th'])]\n",
    "        if cells:\n",
    "            rows.append(cells)\n",
    "    header, *data = rows\n",
    "    df_scrape = pd.DataFrame(data, columns=header)\n",
    "\n",
    "if 'Price' in df_scrape.columns:\n",
    "    df_scrape['Price'] = pd.to_numeric(df_scrape['Price'], errors='coerce')\n",
    "\n",
    "\n",
    "\n",
    "fname2 = save_csv_file(df_scrape,prefix=\"scrape\", meta={\"site\": \"example\", \"table\": \"markets\"})\n",
    "out_path2 = DATA_PATH / fname2\n",
    "df_scrape.to_csv(out_path2, index=False)\n",
    "print(\"Saved:\", out_path2)"
   ]
  },
  {
   "cell_type": "code",
   "execution_count": null,
   "id": "855ae440",
   "metadata": {},
   "outputs": [],
   "source": []
  }
 ],
 "metadata": {
  "kernelspec": {
   "display_name": "env",
   "language": "python",
   "name": "python3"
  },
  "language_info": {
   "codemirror_mode": {
    "name": "ipython",
    "version": 3
   },
   "file_extension": ".py",
   "mimetype": "text/x-python",
   "name": "python",
   "nbconvert_exporter": "python",
   "pygments_lexer": "ipython3",
   "version": "3.13.5"
  }
 },
 "nbformat": 4,
 "nbformat_minor": 5
}
