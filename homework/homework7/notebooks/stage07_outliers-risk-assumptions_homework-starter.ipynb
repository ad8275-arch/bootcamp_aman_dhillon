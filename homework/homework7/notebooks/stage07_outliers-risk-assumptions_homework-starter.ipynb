{
 "cells": [
  {
   "cell_type": "code",
   "execution_count": 111,
   "id": "b6fcdeca",
   "metadata": {},
   "outputs": [
    {
     "name": "stdout",
     "output_type": "stream",
     "text": [
      "File already exists at ../data/raw/outliers_homework.csv. Skipping CSV creation to avoid overwrite.\n"
     ]
    }
   ],
   "source": [
    "import os\n",
    "import numpy as np\n",
    "import pandas as pd\n",
    "\n",
    "raw_dir = '../data/raw'\n",
    "processed_dir = '../data/processed'\n",
    "\n",
    "# Create folders if they don't exist\n",
    "os.makedirs(raw_dir, exist_ok=True)\n",
    "os.makedirs(processed_dir, exist_ok=True)\n",
    "\n",
    "# Generate business day dates\n",
    "dates = pd.date_range(start=\"2022-01-03\", end=\"2022-06-10\", freq=\"B\")\n",
    "\n",
    "# Fixed random seed for reproducibility\n",
    "np.random.seed(17)\n",
    "\n",
    "# Column 1: daily_return ~ N(0, 0.01)\n",
    "returns = np.random.normal(0, 0.01, size=len(dates))\n",
    "mask_pre_may = dates < \"2022-05-01\"\n",
    "returns[mask_pre_may] -= 0.0015  \n",
    "\n",
    "# Inject \"shock\" values\n",
    "shock_values = {\n",
    "    \"2022-05-02\": 0.1748425237194541,\n",
    "    \"2022-05-03\": -0.16825801732486943,\n",
    "    \"2022-05-06\": -0.19667220757153227,\n",
    "    \"2022-05-09\": 0.21240223590614747,\n",
    "    \"2022-05-12\": -0.178729287231294\n",
    "}\n",
    "for d, v in shock_values.items():\n",
    "    idx = np.where(dates == pd.to_datetime(d))[0][0]\n",
    "    returns[idx] = v\n",
    "\n",
    "# Column 2: daily_return_2, correlated with daily_return + small noise\n",
    "daily_return_2 = returns * 0.6 + np.random.normal(0, 0.005, size=len(dates))\n",
    "\n",
    "# Create DataFrame with two numeric columns\n",
    "df = pd.DataFrame({\n",
    "    \"date\": dates,\n",
    "    \"daily_return\": returns,\n",
    "    \"daily_return_2\": daily_return_2\n",
    "})\n",
    "\n",
    "# Save to CSV in raw data folder\n",
    "csv_path = os.path.join(raw_dir, 'outliers_homework.csv')\n",
    "if not os.path.exists(csv_path):\n",
    "    df.to_csv(csv_path, index=False)\n",
    "    print(f'Synthetic dataset with two columns created and saved to {csv_path}')\n",
    "else:\n",
    "    print(f'File already exists at {csv_path}. Skipping CSV creation to avoid overwrite.')"
   ]
  },
  {
   "cell_type": "code",
   "execution_count": 112,
   "id": "af9620a9",
   "metadata": {},
   "outputs": [
    {
     "name": "stdout",
     "output_type": "stream",
     "text": [
      "          date  daily_return  daily_return_2\n",
      "0   2022-01-03      0.001263        0.003834\n",
      "1   2022-01-04     -0.020046       -0.009506\n",
      "2   2022-01-05      0.004739       -0.000535\n",
      "3   2022-01-06      0.009953        0.012539\n",
      "4   2022-01-07      0.008872        0.009840\n",
      "..         ...           ...             ...\n",
      "110 2022-06-06     -0.010598       -0.001576\n",
      "111 2022-06-07     -0.004461        0.002448\n",
      "112 2022-06-08     -0.011624       -0.013451\n",
      "113 2022-06-09     -0.006220       -0.002045\n",
      "114 2022-06-10      0.006093        0.004984\n",
      "\n",
      "[115 rows x 3 columns]\n"
     ]
    }
   ],
   "source": [
    "print(df)"
   ]
  },
  {
   "cell_type": "markdown",
   "id": "401ce808",
   "metadata": {},
   "source": [
    "Loading data"
   ]
  },
  {
   "cell_type": "code",
   "execution_count": 113,
   "id": "45bb04e4",
   "metadata": {},
   "outputs": [],
   "source": [
    "# Setup\n",
    "import numpy as np\n",
    "import pandas as pd\n",
    "import matplotlib.pyplot as plt\n",
    "from pathlib import Path\n",
    "from sklearn.linear_model import LinearRegression\n",
    "from sklearn.metrics import mean_absolute_error, r2_score\n",
    "np.random.seed(17)"
   ]
  },
  {
   "cell_type": "code",
   "execution_count": 114,
   "id": "446d3766",
   "metadata": {},
   "outputs": [
    {
     "data": {
      "text/html": [
       "<div>\n",
       "<style scoped>\n",
       "    .dataframe tbody tr th:only-of-type {\n",
       "        vertical-align: middle;\n",
       "    }\n",
       "\n",
       "    .dataframe tbody tr th {\n",
       "        vertical-align: top;\n",
       "    }\n",
       "\n",
       "    .dataframe thead th {\n",
       "        text-align: right;\n",
       "    }\n",
       "</style>\n",
       "<table border=\"1\" class=\"dataframe\">\n",
       "  <thead>\n",
       "    <tr style=\"text-align: right;\">\n",
       "      <th></th>\n",
       "      <th>date</th>\n",
       "      <th>daily_return</th>\n",
       "      <th>daily_return_2</th>\n",
       "    </tr>\n",
       "  </thead>\n",
       "  <tbody>\n",
       "    <tr>\n",
       "      <th>0</th>\n",
       "      <td>2022-01-03</td>\n",
       "      <td>0.001263</td>\n",
       "      <td>0.003834</td>\n",
       "    </tr>\n",
       "    <tr>\n",
       "      <th>1</th>\n",
       "      <td>2022-01-04</td>\n",
       "      <td>-0.020046</td>\n",
       "      <td>-0.009506</td>\n",
       "    </tr>\n",
       "    <tr>\n",
       "      <th>2</th>\n",
       "      <td>2022-01-05</td>\n",
       "      <td>0.004739</td>\n",
       "      <td>-0.000535</td>\n",
       "    </tr>\n",
       "    <tr>\n",
       "      <th>3</th>\n",
       "      <td>2022-01-06</td>\n",
       "      <td>0.009953</td>\n",
       "      <td>0.012539</td>\n",
       "    </tr>\n",
       "    <tr>\n",
       "      <th>4</th>\n",
       "      <td>2022-01-07</td>\n",
       "      <td>0.008872</td>\n",
       "      <td>0.009840</td>\n",
       "    </tr>\n",
       "  </tbody>\n",
       "</table>\n",
       "</div>"
      ],
      "text/plain": [
       "         date  daily_return  daily_return_2\n",
       "0  2022-01-03      0.001263        0.003834\n",
       "1  2022-01-04     -0.020046       -0.009506\n",
       "2  2022-01-05      0.004739       -0.000535\n",
       "3  2022-01-06      0.009953        0.012539\n",
       "4  2022-01-07      0.008872        0.009840"
      ]
     },
     "execution_count": 114,
     "metadata": {},
     "output_type": "execute_result"
    }
   ],
   "source": [
    "data_path = Path('../data/raw/outliers_homework.csv')\n",
    "if data_path.exists():\n",
    "    df = pd.read_csv(data_path)\n",
    "else:\n",
    "    # Synthetic fallback: linear trend with noise and a few extremes\n",
    "    x = np.linspace(0, 10, 200)\n",
    "    y = 2.2 * x + 1 + np.random.normal(0, 1.2, size=x.size)\n",
    "    y[10] += 15; y[120] -= 13; y[160] += 18\n",
    "    df = pd.DataFrame({'x': x, 'y': y})\n",
    "df.head()"
   ]
  },
  {
   "cell_type": "code",
   "execution_count": 115,
   "id": "fb2ecae4",
   "metadata": {},
   "outputs": [],
   "source": [
    "df.rename(columns={'daily_return': 'x', 'daily_return_2': 'y'}, inplace=True)\n"
   ]
  },
  {
   "cell_type": "code",
   "execution_count": 116,
   "id": "8656f156",
   "metadata": {},
   "outputs": [
    {
     "name": "stdout",
     "output_type": "stream",
     "text": [
      "           date         x         y\n",
      "0    2022-01-03  0.001263  0.003834\n",
      "1    2022-01-04 -0.020046 -0.009506\n",
      "2    2022-01-05  0.004739 -0.000535\n",
      "3    2022-01-06  0.009953  0.012539\n",
      "4    2022-01-07  0.008872  0.009840\n",
      "..          ...       ...       ...\n",
      "110  2022-06-06 -0.010598 -0.001576\n",
      "111  2022-06-07 -0.004461  0.002448\n",
      "112  2022-06-08 -0.011624 -0.013451\n",
      "113  2022-06-09 -0.006220 -0.002045\n",
      "114  2022-06-10  0.006093  0.004984\n",
      "\n",
      "[115 rows x 3 columns]\n"
     ]
    }
   ],
   "source": [
    "print(df)"
   ]
  },
  {
   "cell_type": "markdown",
   "id": "4a3d4070",
   "metadata": {},
   "source": [
    "Outlier_iqr , Outlier_zscore and winsorize function defined"
   ]
  },
  {
   "cell_type": "code",
   "execution_count": 117,
   "id": "b4a46737",
   "metadata": {},
   "outputs": [],
   "source": [
    "def detect_outliers_iqr(series: pd.Series, k: float = 1.5) -> pd.Series:\n",
    "    \"\"\"Return boolean mask for IQR-based outliers.\n",
    "    Assumptions: distribution reasonably summarized by quartiles; k controls strictness.\n",
    "    \"\"\"\n",
    "    q1 = series.quantile(0.25)\n",
    "    q3 = series.quantile(0.75)\n",
    "    iqr = q3 - q1\n",
    "    lower = q1 - k * iqr\n",
    "    upper = q3 + k * iqr\n",
    "    return (series < lower) | (series > upper)\n",
    "\n",
    "def detect_outliers_zscore(series: pd.Series, threshold: float = 3.0) -> pd.Series:\n",
    "    \"\"\"Return boolean mask for Z-score outliers where |z| > threshold.\n",
    "    Assumptions: roughly normal distribution; sensitive to heavy tails.\n",
    "    \"\"\"\n",
    "    mu = series.mean()\n",
    "    sigma = series.std(ddof=0)\n",
    "    z = (series - mu) / (sigma if sigma != 0 else 1.0)\n",
    "    return z.abs() > threshold\n",
    "\n",
    "def winsorize_series(series: pd.Series, lower: float = 0.05, upper: float = 0.95) -> pd.Series:\n",
    "    lo = series.quantile(lower)\n",
    "    hi = series.quantile(upper)\n",
    "    return series.clip(lower=lo, upper=hi)"
   ]
  },
  {
   "cell_type": "code",
   "execution_count": 118,
   "id": "4e685c84",
   "metadata": {},
   "outputs": [],
   "source": [
    "df['winsorized_y'] = winsorize_series(df['y'])"
   ]
  },
  {
   "cell_type": "code",
   "execution_count": 119,
   "id": "a8a81590",
   "metadata": {},
   "outputs": [
    {
     "name": "stdout",
     "output_type": "stream",
     "text": [
      "           date         x         y  winsorized_y\n",
      "0    2022-01-03  0.001263  0.003834      0.003834\n",
      "1    2022-01-04 -0.020046 -0.009506     -0.009506\n",
      "2    2022-01-05  0.004739 -0.000535     -0.000535\n",
      "3    2022-01-06  0.009953  0.012539      0.012539\n",
      "4    2022-01-07  0.008872  0.009840      0.009840\n",
      "..          ...       ...       ...           ...\n",
      "110  2022-06-06 -0.010598 -0.001576     -0.001576\n",
      "111  2022-06-07 -0.004461  0.002448      0.002448\n",
      "112  2022-06-08 -0.011624 -0.013451     -0.013451\n",
      "113  2022-06-09 -0.006220 -0.002045     -0.002045\n",
      "114  2022-06-10  0.006093  0.004984      0.004984\n",
      "\n",
      "[115 rows x 4 columns]\n"
     ]
    }
   ],
   "source": [
    "print(df)"
   ]
  },
  {
   "cell_type": "markdown",
   "id": "5e0e7d12",
   "metadata": {},
   "source": [
    "Applying detection and creating flags"
   ]
  },
  {
   "cell_type": "code",
   "execution_count": 120,
   "id": "7a9dd587",
   "metadata": {},
   "outputs": [
    {
     "data": {
      "text/plain": [
       "outlier_iqr    0.060870\n",
       "outlier_z      0.043478\n",
       "dtype: float64"
      ]
     },
     "execution_count": 120,
     "metadata": {},
     "output_type": "execute_result"
    }
   ],
   "source": [
    "target_col = 'y' if 'y' in df.columns else df.select_dtypes(include=['number']).columns[0]\n",
    "df['outlier_iqr'] = detect_outliers_iqr(df[target_col])\n",
    "df['outlier_z'] = detect_outliers_zscore(df[target_col], threshold=3.0)\n",
    "df[['outlier_iqr', 'outlier_z']].mean()  # fraction flagged"
   ]
  },
  {
   "cell_type": "markdown",
   "id": "ac0c8987",
   "metadata": {},
   "source": [
    "Visual Checks"
   ]
  },
  {
   "cell_type": "code",
   "execution_count": 121,
   "id": "5b1ecb54",
   "metadata": {},
   "outputs": [
    {
     "data": {
      "image/png": "[encoded data removed]",
      "text/plain": [
       "<Figure size 640x480 with 1 Axes>"
      ]
     },
     "metadata": {},
     "output_type": "display_data"
    },
    {
     "data": {
      "image/png": "[encoded data removed]",
      "text/plain": [
       "<Figure size 640x480 with 1 Axes>"
      ]
     },
     "metadata": {},
     "output_type": "display_data"
    }
   ],
   "source": [
    "plt.figure()\n",
    "plt.boxplot(df[target_col])\n",
    "plt.title(f'Boxplot: {target_col}')\n",
    "plt.show()\n",
    "\n",
    "plt.figure()\n",
    "plt.hist(df[target_col], bins=30)\n",
    "plt.title(f'Histogram: {target_col}')\n",
    "plt.show()"
   ]
  },
  {
   "cell_type": "markdown",
   "id": "f7f83d36",
   "metadata": {},
   "source": [
    "Plotting for filtered data"
   ]
  },
  {
   "cell_type": "code",
   "execution_count": 122,
   "id": "218ae024",
   "metadata": {},
   "outputs": [
    {
     "data": {
      "image/png": "[encoded data removed]",
      "text/plain": [
       "<Figure size 640x480 with 1 Axes>"
      ]
     },
     "metadata": {},
     "output_type": "display_data"
    },
    {
     "data": {
      "image/png": "[encoded data removed]",
      "text/plain": [
       "<Figure size 640x480 with 1 Axes>"
      ]
     },
     "metadata": {},
     "output_type": "display_data"
    }
   ],
   "source": [
    "plt.figure()\n",
    "plt.boxplot(y_filtered)\n",
    "plt.title(f'Boxplot: {target_col}')\n",
    "plt.show()\n",
    "\n",
    "plt.figure()\n",
    "plt.hist(X_filtered, bins=30)\n",
    "plt.title(f'Histogram: {target_col}')\n",
    "plt.show()"
   ]
  },
  {
   "cell_type": "markdown",
   "id": "45889ce8",
   "metadata": {},
   "source": [
    "Plotting winsorized boxplot"
   ]
  },
  {
   "cell_type": "code",
   "execution_count": 123,
   "id": "80c707f8",
   "metadata": {},
   "outputs": [
    {
     "data": {
      "image/png": "[encoded data removed]",
      "text/plain": [
       "<Figure size 640x480 with 1 Axes>"
      ]
     },
     "metadata": {},
     "output_type": "display_data"
    },
    {
     "data": {
      "image/png": "[encoded data removed]",
      "text/plain": [
       "<Figure size 640x480 with 1 Axes>"
      ]
     },
     "metadata": {},
     "output_type": "display_data"
    }
   ],
   "source": [
    "plt.figure()\n",
    "plt.boxplot(y_winsorized)\n",
    "plt.title(f'Boxplot: {target_col}')\n",
    "plt.show()\n",
    "\n",
    "plt.figure()\n",
    "plt.hist(X_winsorized, bins=30)\n",
    "plt.title(f'Histogram: {target_col}')\n",
    "plt.show()"
   ]
  },
  {
   "cell_type": "markdown",
   "id": "1c8be70a",
   "metadata": {},
   "source": [
    "Sensitivity Analysis"
   ]
  },
  {
   "cell_type": "code",
   "execution_count": 124,
   "id": "a81ca948",
   "metadata": {},
   "outputs": [],
   "source": [
    "if 'x' in df.columns:\n",
    "    X_all = df[['x']].to_numpy(); y_all = df[target_col].to_numpy()\n",
    "    X_filtered = df.loc[~df['outlier_iqr'], ['x']].to_numpy(); y_filtered = df.loc[~df['outlier_iqr'], target_col].to_numpy()\n",
    "    X_winsorized = df[['x']].to_numpy(); y_winsorized = df['winsorized_y'].to_numpy()\n",
    "\n",
    "    model_all = LinearRegression().fit(X_all, y_all)\n",
    "    model_flt = LinearRegression().fit(X_filtered, y_filtered)\n",
    "    model_winsorized = LinearRegression().fit(X_winsorized,y_winsorized)\n",
    "\n",
    "    mae_all = mean_absolute_error(y_all, model_all.predict(X_all))\n",
    "    mae_flt = mean_absolute_error(y_filtered, model_flt.predict(X_filtered))\n",
    "    mae_winsorized = mean_absolute_error(y_winsorized,model_winsorized.predict(X_winsorized))\n",
    "\n",
    "    results = pd.DataFrame({\n",
    "        'slope': [model_all.coef_[0], model_flt.coef_[0],model_winsorized.coef_[0]],\n",
    "        'intercept': [model_all.intercept_, model_flt.intercept_,model_winsorized.intercept_],\n",
    "        'r2': [model_all.score(X_all, y_all), model_flt.score(X_filtered, y_filtered),model_winsorized.score(X_winsorized,y_winsorized)],\n",
    "        'mae': [mae_all, mae_flt, mae_winsorized]\n",
    "    }, index=['all', 'filtered_iqr','winsorized'])\n",
    "    results\n",
    "else:\n",
    "    results = None\n",
    "    print(\"No 'x' column; skip regression or engineer features.\")"
   ]
  },
  {
   "cell_type": "code",
   "execution_count": 125,
   "id": "6f0e718e",
   "metadata": {},
   "outputs": [
    {
     "name": "stdout",
     "output_type": "stream",
     "text": [
      "                 slope  intercept        r2       mae\n",
      "all           0.605869   0.000201  0.961859  0.003951\n",
      "filtered_iqr  0.598159  -0.000063  0.621966  0.003806\n",
      "winsorized    0.118781  -0.000010  0.336244  0.005391\n"
     ]
    }
   ],
   "source": [
    "print(results)"
   ]
  },
  {
   "cell_type": "markdown",
   "id": "612ae7d0",
   "metadata": {},
   "source": [
    "# Reflection: Outliers, Assumptions, and Risks\n",
    "\n",
    "## Outlier Detection Methods\n",
    "\n",
    "**IQR Rule (k = 1.5)**  \n",
    "- This method flagged points lying beyond the interquartile range boundaries (Q1 - 1.5×IQR and Q3 + 1.5×IQR).  \n",
    "- Because the data distribution was not perfectly symmetric, the IQR method captured a moderate number of high and low extremes.  \n",
    "- Visually, the boxplot confirmed that the IQR-flagged points aligned well with the most extreme daily returns.  \n",
    "\n",
    "**Z-score (threshold = 3.0)**  \n",
    "- This approach identified fewer points since it assumes the data is roughly normal.  \n",
    "- In my dataset, the distribution was heavy-tailed, so fewer outliers were detected compared to IQR.  \n",
    "- This reinforced the idea that Z-score is less effective when the data is skewed or has fat tails.  \n",
    "\n",
    "**Winsorizing (5% lower / 95% upper)**  \n",
    "- Instead of removing extreme values, I capped them to the chosen quantiles.  \n",
    "- This preserved the number of observations (important for regression stability) while reducing the disproportionate influence of extremes.  \n",
    "\n",
    "---\n",
    "\n",
    "## Sensitivity Analysis Results\n",
    "\n",
    "I compared both summary statistics and a linear regression model (**y on x**) across three scenarios:\n",
    "\n",
    "**1. With outliers (original data)**  \n",
    "- Mean was pulled strongly by extreme values.  \n",
    "- Standard deviation was inflated, overstating variability.  \n",
    "- Regression coefficients were larger in magnitude, R² was artificially high, and residuals showed strong influence of a few points.  \n",
    "\n",
    "**2. Without outliers (IQR or Z-score filtering)**  \n",
    "- Mean and standard deviation stabilized closer to the median.  \n",
    "- Regression coefficients shrank toward more realistic values.  \n",
    "- Model fit metrics (R², MAE) were more stable, suggesting the relationship was not driven solely by outliers.  \n",
    "\n",
    "**3. Winsorized data**  \n",
    "- Produced results in between the two extremes.  \n",
    "- Mean and standard deviation were less distorted than in the original dataset, but variability was still acknowledged.  \n",
    "- Regression coefficients were more stable than with raw data while avoiding data loss from dropping rows.  \n",
    "\n",
    "---\n",
    "\n",
    "## Assumptions Behind Methods\n",
    "\n",
    "- **IQR**: Assumes the central 50% of data (Q1–Q3) is representative, and deviations outside are anomalies. Works best when the distribution is not too skewed.  \n",
    "- **Z-score**: Assumes approximate normality, so deviations of ±3 standard deviations are “rare.” If the data is non-normal, this assumption breaks.  \n",
    "- **Winsorizing**: Assumes extreme values are distortions/noise and can be capped without losing meaningful information. Risky if outliers represent true structural events.  \n",
    "\n",
    "---\n",
    "\n",
    "## Risks if Assumptions Are Wrong\n",
    "\n",
    "- **Hidden signals**: In financial data, extreme returns may represent true market shocks. Removing or capping them could understate risk exposure.  \n",
    "- **Overconfidence in models**: By removing volatility, models may look more stable than reality, leading to poor decisions.  \n",
    "- **Method mismatch**: Using Z-score on non-normal data may miss true anomalies, while IQR may over-flag if the distribution is naturally heavy-tailed.  \n",
    "\n",
    "---\n",
    "\n",
    "## Overall Takeaways\n",
    "\n",
    "- For this dataset, **IQR** was the most effective at flagging suspicious values.  \n",
    "- **Winsorizing** offered a practical balance between robustness and data retention.  \n",
    "- **Z-score** was less reliable because of the skewed, heavy-tailed distribution.  \n",
    "\n",
    "Ultimately, the choice depends on **domain context**:  \n",
    "- If the goal is to clean noisy data → filtering/winsorizing is appropriate.  \n",
    "- If the goal is to study market risk → retaining outliers is critical.  \n"
   ]
  },
  {
   "cell_type": "code",
   "execution_count": null,
   "id": "89ea8d83",
   "metadata": {},
   "outputs": [],
   "source": []
  }
 ],
 "metadata": {
  "kernelspec": {
   "display_name": "bootcamp_env",
   "language": "python",
   "name": "python3"
  },
  "language_info": {
   "codemirror_mode": {
    "name": "ipython",
    "version": 3
   },
   "file_extension": ".py",
   "mimetype": "text/x-python",
   "name": "python",
   "nbconvert_exporter": "python",
   "pygments_lexer": "ipython3",
   "version": "3.11.13"
  }
 },
 "nbformat": 4,
 "nbformat_minor": 5
}
