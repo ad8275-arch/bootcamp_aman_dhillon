{
 "cells": [
  {
   "cell_type": "code",
   "execution_count": 50,
   "id": "726f0b6b",
   "metadata": {},
   "outputs": [
    {
     "name": "stderr",
     "output_type": "stream",
     "text": [
      "Matplotlib is building the font cache; this may take a moment.\n"
     ]
    }
   ],
   "source": [
    "import numpy as np\n",
    "import matplotlib.pyplot as plt\n",
    "import time\n"
   ]
  },
  {
   "cell_type": "markdown",
   "id": "5d2df720",
   "metadata": {},
   "source": [
    "Generating Random Arrays"
   ]
  },
  {
   "cell_type": "code",
   "execution_count": 8,
   "id": "4642e18d",
   "metadata": {},
   "outputs": [
    {
     "name": "stdout",
     "output_type": "stream",
     "text": [
      "[[ 9  5  2]\n",
      " [ 4  8 17]\n",
      " [ 4  3  9]]\n",
      "[[ 8  8  5]\n",
      " [ 1  1  8]\n",
      " [ 6  4 16]]\n"
     ]
    }
   ],
   "source": [
    "np.random.seed(234)\n",
    "array1 = np.random.randint(1,20,size=(3,3))\n",
    "array2 = np.random.randint(1,20,size=(3,3))\n",
    "print(array1)\n",
    "print(array2)"
   ]
  },
  {
   "cell_type": "markdown",
   "id": "a316d964",
   "metadata": {},
   "source": [
    "Elementary Operations"
   ]
  },
  {
   "cell_type": "code",
   "execution_count": 9,
   "id": "5c317ca5",
   "metadata": {},
   "outputs": [
    {
     "name": "stdout",
     "output_type": "stream",
     "text": [
      "Addition [[17 13  7]\n",
      " [ 5  9 25]\n",
      " [10  7 25]]\n",
      "Division [[1.125      0.625      0.4       ]\n",
      " [4.         8.         2.125     ]\n",
      " [0.66666667 0.75       0.5625    ]]\n",
      "Multiplication [[ 72  40  10]\n",
      " [  4   8 136]\n",
      " [ 24  12 144]]\n",
      "Subtraction [[ 1 -3 -3]\n",
      " [ 3  7  9]\n",
      " [-2 -1 -7]]\n"
     ]
    }
   ],
   "source": [
    "print(\"Addition\",array1+array2)\n",
    "print(\"Division\",array1/array2)\n",
    "print(\"Multiplication\",array1*array2)\n",
    "print(\"Subtraction\",array1-array2)"
   ]
  },
  {
   "cell_type": "markdown",
   "id": "ac172bb5",
   "metadata": {},
   "source": [
    "Loop vs Vectorized Execution"
   ]
  },
  {
   "cell_type": "code",
   "execution_count": null,
   "id": "481ebcd2",
   "metadata": {},
   "outputs": [
    {
     "name": "stdout",
     "output_type": "stream",
     "text": [
      "Loop_time :  9.870529174804688e-05\n",
      "Vector_time : 7.224082946777344e-05\n"
     ]
    }
   ],
   "source": [
    "array_f = np.zeros_like(array1)\n",
    "s1 = time.time()\n",
    "for i in range(array1.shape[0]):\n",
    "    for j in range(array1.shape[1]):\n",
    "        array_f[i,j]=array1[i,j]+array2[i,j]\n",
    "s2 = time.time()\n",
    "loop_time = s2 - s1\n",
    "print(\"Loop_time : \",loop_time)\n",
    "\n",
    "\n",
    "s3 = time.time()\n",
    "array_f = array1 + array2\n",
    "s4 = time.time()\n",
    "vec_time = s4-s3\n",
    "print(\"Vector_time :\", vec_time)"
   ]
  },
  {
   "cell_type": "markdown",
   "id": "6766c87f",
   "metadata": {},
   "source": [
    "Working with Starter_data"
   ]
  },
  {
   "cell_type": "code",
   "execution_count": 40,
   "id": "f25c7053",
   "metadata": {},
   "outputs": [
    {
     "data": {
      "text/html": [
       "<div>\n",
       "<style scoped>\n",
       "    .dataframe tbody tr th:only-of-type {\n",
       "        vertical-align: middle;\n",
       "    }\n",
       "\n",
       "    .dataframe tbody tr th {\n",
       "        vertical-align: top;\n",
       "    }\n",
       "\n",
       "    .dataframe thead th {\n",
       "        text-align: right;\n",
       "    }\n",
       "</style>\n",
       "<table border=\"1\" class=\"dataframe\">\n",
       "  <thead>\n",
       "    <tr style=\"text-align: right;\">\n",
       "      <th></th>\n",
       "      <th>category</th>\n",
       "      <th>value</th>\n",
       "      <th>date</th>\n",
       "    </tr>\n",
       "  </thead>\n",
       "  <tbody>\n",
       "    <tr>\n",
       "      <th>0</th>\n",
       "      <td>A</td>\n",
       "      <td>10</td>\n",
       "      <td>2025-08-01</td>\n",
       "    </tr>\n",
       "    <tr>\n",
       "      <th>1</th>\n",
       "      <td>B</td>\n",
       "      <td>15</td>\n",
       "      <td>2025-08-02</td>\n",
       "    </tr>\n",
       "    <tr>\n",
       "      <th>2</th>\n",
       "      <td>A</td>\n",
       "      <td>12</td>\n",
       "      <td>2025-08-03</td>\n",
       "    </tr>\n",
       "    <tr>\n",
       "      <th>3</th>\n",
       "      <td>B</td>\n",
       "      <td>18</td>\n",
       "      <td>2025-08-04</td>\n",
       "    </tr>\n",
       "    <tr>\n",
       "      <th>4</th>\n",
       "      <td>C</td>\n",
       "      <td>25</td>\n",
       "      <td>2025-08-05</td>\n",
       "    </tr>\n",
       "  </tbody>\n",
       "</table>\n",
       "</div>"
      ],
      "text/plain": [
       "  category  value        date\n",
       "0        A     10  2025-08-01\n",
       "1        B     15  2025-08-02\n",
       "2        A     12  2025-08-03\n",
       "3        B     18  2025-08-04\n",
       "4        C     25  2025-08-05"
      ]
     },
     "execution_count": 40,
     "metadata": {},
     "output_type": "execute_result"
    }
   ],
   "source": [
    "import pandas as pd\n",
    "df = pd.read_csv(\"../data/starter_data.csv\")\n",
    "df.head()\n"
   ]
  },
  {
   "cell_type": "code",
   "execution_count": 41,
   "id": "b0403112",
   "metadata": {},
   "outputs": [
    {
     "name": "stdout",
     "output_type": "stream",
     "text": [
      "<class 'pandas.core.frame.DataFrame'>\n",
      "RangeIndex: 10 entries, 0 to 9\n",
      "Data columns (total 3 columns):\n",
      " #   Column    Non-Null Count  Dtype \n",
      "---  ------    --------------  ----- \n",
      " 0   category  10 non-null     object\n",
      " 1   value     10 non-null     int64 \n",
      " 2   date      10 non-null     object\n",
      "dtypes: int64(1), object(2)\n",
      "memory usage: 372.0+ bytes\n"
     ]
    }
   ],
   "source": [
    "df.info()"
   ]
  },
  {
   "cell_type": "code",
   "execution_count": 42,
   "id": "8e54ecd5",
   "metadata": {},
   "outputs": [
    {
     "data": {
      "text/html": [
       "<div>\n",
       "<style scoped>\n",
       "    .dataframe tbody tr th:only-of-type {\n",
       "        vertical-align: middle;\n",
       "    }\n",
       "\n",
       "    .dataframe tbody tr th {\n",
       "        vertical-align: top;\n",
       "    }\n",
       "\n",
       "    .dataframe thead th {\n",
       "        text-align: right;\n",
       "    }\n",
       "</style>\n",
       "<table border=\"1\" class=\"dataframe\">\n",
       "  <thead>\n",
       "    <tr style=\"text-align: right;\">\n",
       "      <th></th>\n",
       "      <th>value</th>\n",
       "    </tr>\n",
       "  </thead>\n",
       "  <tbody>\n",
       "    <tr>\n",
       "      <th>count</th>\n",
       "      <td>10.000000</td>\n",
       "    </tr>\n",
       "    <tr>\n",
       "      <th>mean</th>\n",
       "      <td>17.600000</td>\n",
       "    </tr>\n",
       "    <tr>\n",
       "      <th>std</th>\n",
       "      <td>7.381659</td>\n",
       "    </tr>\n",
       "    <tr>\n",
       "      <th>min</th>\n",
       "      <td>10.000000</td>\n",
       "    </tr>\n",
       "    <tr>\n",
       "      <th>25%</th>\n",
       "      <td>12.250000</td>\n",
       "    </tr>\n",
       "    <tr>\n",
       "      <th>50%</th>\n",
       "      <td>14.500000</td>\n",
       "    </tr>\n",
       "    <tr>\n",
       "      <th>75%</th>\n",
       "      <td>23.250000</td>\n",
       "    </tr>\n",
       "    <tr>\n",
       "      <th>max</th>\n",
       "      <td>30.000000</td>\n",
       "    </tr>\n",
       "  </tbody>\n",
       "</table>\n",
       "</div>"
      ],
      "text/plain": [
       "           value\n",
       "count  10.000000\n",
       "mean   17.600000\n",
       "std     7.381659\n",
       "min    10.000000\n",
       "25%    12.250000\n",
       "50%    14.500000\n",
       "75%    23.250000\n",
       "max    30.000000"
      ]
     },
     "execution_count": 42,
     "metadata": {},
     "output_type": "execute_result"
    }
   ],
   "source": [
    "df.describe()"
   ]
  },
  {
   "cell_type": "code",
   "execution_count": 54,
   "id": "3bc976cb",
   "metadata": {},
   "outputs": [
    {
     "name": "stdout",
     "output_type": "stream",
     "text": [
      "  category  count  min  max       mean       std\n",
      "0        A      4   10   13  11.500000  1.290994\n",
      "1        B      3   14   18  15.666667  2.081666\n",
      "2        C      3   25   30  27.666667  2.516611\n"
     ]
    }
   ],
   "source": [
    "summary_df = df.groupby('category')['value'].agg([\"count\",\"min\",\"max\",\"mean\",\"std\"])\n",
    "summary_df.reset_index(inplace=True)\n",
    "print(summary_df)\n",
    "summary_df.to_csv(\"../data/processed/summary.csv\")"
   ]
  },
  {
   "cell_type": "code",
   "execution_count": 57,
   "id": "61be3f46",
   "metadata": {},
   "outputs": [
    {
     "data": {
      "image/png": "[encoded data removed]",
      "text/plain": [
       "<Figure size 600x400 with 1 Axes>"
      ]
     },
     "metadata": {},
     "output_type": "display_data"
    }
   ],
   "source": [
    "plt.figure(figsize=(6,4))\n",
    "plt.bar(summary_df[\"category\"], summary_df[\"count\"], color=\"skyblue\", edgecolor=\"black\")\n",
    "\n",
    "plt.title(\"Count by Category\")\n",
    "plt.xlabel(\"Category\")\n",
    "plt.ylabel(\"Count\")\n",
    "plt.tight_layout()\n",
    "plt.savefig(\"../data/processed/Plot.png\")\n",
    "plt.show()"
   ]
  },
  {
   "cell_type": "markdown",
   "id": "ee2aae6f",
   "metadata": {},
   "source": []
  }
 ],
 "metadata": {
  "kernelspec": {
   "display_name": "env",
   "language": "python",
   "name": "python3"
  },
  "language_info": {
   "codemirror_mode": {
    "name": "ipython",
    "version": 3
   },
   "file_extension": ".py",
   "mimetype": "text/x-python",
   "name": "python",
   "nbconvert_exporter": "python",
   "pygments_lexer": "ipython3",
   "version": "3.13.5"
  }
 },
 "nbformat": 4,
 "nbformat_minor": 5
}
