{
 "cells": [
  {
   "cell_type": "markdown",
   "metadata": {},
   "source": [
    "# Stage 13 Homework Starter — Productization\n",
    "\n",
    "## Objective\n",
    "Deploy your trained model as a **reusable, handoff-ready API or dashboard** and finalize your project for reproducibility and clarity."
   ]
  },
  {
   "cell_type": "markdown",
   "id": "743e7eb9",
   "metadata": {},
   "source": [
    "## Importing neccessary packages"
   ]
  },
  {
   "cell_type": "code",
   "execution_count": 1,
   "id": "4d29afdd",
   "metadata": {},
   "outputs": [],
   "source": [
    "from sklearn.datasets import make_regression\n",
    "from sklearn.linear_model import LinearRegression\n",
    "import joblib\n",
    "import os,sys\n",
    "import pandas as pd\n",
    "sys.path.append(os.path.abspath(\"..\"))\n",
    "\n",
    "# Now imports from src should work\n",
    "from src.utils import (\n",
    "    calculate_metrics,\n",
    "    predict\n",
    ")"
   ]
  },
  {
   "cell_type": "markdown",
   "id": "8e003adc",
   "metadata": {},
   "source": [
    "## 1. Create mock, very basic analysis"
   ]
  },
  {
   "cell_type": "code",
   "execution_count": null,
   "id": "88fadda7",
   "metadata": {},
   "outputs": [
    {
     "name": "stdout",
     "output_type": "stream",
     "text": [
      "Test prediction: [63.6057849]\n"
     ]
    }
   ],
   "source": [
    "# Create folders if they don't exist\n",
    "os.makedirs('model', exist_ok=True)\n",
    "\n",
    "# Generate synthetic data\n",
    "X, y = make_regression(n_samples=100, n_features=5, noise=0.1, random_state=42)\n",
    "\n",
    "# Train a basic model\n",
    "model = LinearRegression()\n",
    "model.fit(X, y)\n",
    "\n",
    "# Save the model to disk\n",
    "joblib.dump(model, '../model/model.pkl')\n",
    "\n",
    "# Test that it works\n",
    "print(\"Test prediction:\", model.predict([[0.1, 0.2,0.1,0.3,0.4]]))"
   ]
  },
  {
   "cell_type": "markdown",
   "metadata": {},
   "source": [
    "## 2. Notebook Cleanup\n",
    "data is already clean since i generated no nan values in the synthetic data and now we are importing the saved model to predict on the given values"
   ]
  },
  {
   "cell_type": "code",
   "execution_count": 3,
   "metadata": {},
   "outputs": [
    {
     "name": "stdout",
     "output_type": "stream",
     "text": [
      "Reloaded model prediction: [63.6057849]\n"
     ]
    }
   ],
   "source": [
    "loaded_model = joblib.load('../model/model.pkl')\n",
    "print(\"Reloaded model prediction:\", loaded_model.predict([[0.1, 0.2,0.1,0.3,0.4]]))"
   ]
  },
  {
   "cell_type": "markdown",
   "metadata": {},
   "source": [
    "## 3. Move reusable functions to /src/\n"
   ]
  },
  {
   "cell_type": "code",
   "execution_count": 4,
   "id": "2f410c29",
   "metadata": {},
   "outputs": [],
   "source": [
    "feature_cols = [f\"feature_{i+1}\" for i in range(X.shape[1])]\n",
    "\n",
    "# Combine X and y into a DataFrame\n",
    "df = pd.DataFrame(X, columns=feature_cols)\n",
    "df[\"target\"] = y"
   ]
  },
  {
   "cell_type": "code",
   "execution_count": 5,
   "metadata": {},
   "outputs": [
    {
     "name": "stdout",
     "output_type": "stream",
     "text": [
      "Function test: 63.61\n",
      "Describe:         feature_1   feature_2   feature_3   feature_4   feature_5      target\n",
      "count  100.000000  100.000000  100.000000  100.000000  100.000000  100.000000\n",
      "mean    -0.032202    0.128058   -0.044747    0.076954   -0.093874    8.840707\n",
      "std      1.072806    0.959556    0.900352    0.984110    0.983943  140.610938\n",
      "min     -2.619745   -1.913280   -1.952088   -2.301921   -3.241267 -341.184598\n",
      "25%     -0.757046   -0.536288   -0.734897   -0.678136   -0.700307  -83.644779\n",
      "50%     -0.145714    0.152465   -0.010110    0.066421   -0.024662    4.862078\n",
      "75%      0.648170    0.667929    0.524237    0.830645    0.532419  106.949137\n",
      "max      3.852731    3.078881    2.314659    1.886186    2.122156  399.561141\n"
     ]
    }
   ],
   "source": [
    "print(\"Function test:\", predict([0.1, 0.2,0.1,0.3,0.4], round_prediction=True))\n",
    "print(\"Describe:\",calculate_metrics(df))"
   ]
  },
  {
   "cell_type": "markdown",
   "metadata": {},
   "source": [
    "## 5. Pickle / Save Final Model\n",
    "\n",
    "### TODO: Replace this with your trained model"
   ]
  },
  {
   "cell_type": "code",
   "execution_count": 6,
   "metadata": {},
   "outputs": [
    {
     "name": "stdout",
     "output_type": "stream",
     "text": [
      "[63.6057849]\n"
     ]
    }
   ],
   "source": [
    "import pickle\n",
    "with open('../model/model.pkl', 'wb') as f:\n",
    "    pickle.dump(model, f)\n",
    "\n",
    "with open('../model/model.pkl', 'rb') as f:\n",
    "    loaded_model = pickle.load(f)\n",
    "\n",
    "# Example prediction (replace with actual features)\n",
    "print(loaded_model.predict([[0.1, 0.2,0.1,0.3,0.4]]))"
   ]
  },
  {
   "cell_type": "markdown",
   "metadata": {},
   "source": [
    "## 6. Flask API Starter\n",
    "\n"
   ]
  },
  {
   "cell_type": "code",
   "execution_count": null,
   "metadata": {},
   "outputs": [
    {
     "name": "stdout",
     "output_type": "stream",
     "text": [
      " * Serving Flask app '__main__'\n",
      " * Debug mode: off\n"
     ]
    },
    {
     "name": "stderr",
     "output_type": "stream",
     "text": [
      "\u001b[31m\u001b[1mWARNING: This is a development server. Do not use it in a production deployment. Use a production WSGI server instead.\u001b[0m\n",
      " * Running on http://127.0.0.1:5000\n",
      "\u001b[33mPress CTRL+C to quit\u001b[0m\n",
      "127.0.0.1 - - [28/Aug/2025 01:42:38] \"POST /predict HTTP/1.1\" 200 -\n",
      "127.0.0.1 - - [28/Aug/2025 01:42:38] \"GET /predict/2.0 HTTP/1.1\" 200 -\n",
      "127.0.0.1 - - [28/Aug/2025 01:42:38] \"GET /predict/1.0/3.0 HTTP/1.1\" 200 -\n",
      "127.0.0.1 - - [28/Aug/2025 01:42:39] \"GET /plot HTTP/1.1\" 200 -\n",
      "127.0.0.1 - - [28/Aug/2025 01:43:43] \"POST /predict HTTP/1.1\" 200 -\n",
      "127.0.0.1 - - [28/Aug/2025 01:43:43] \"GET /predict/2.0 HTTP/1.1\" 200 -\n",
      "127.0.0.1 - - [28/Aug/2025 01:43:43] \"GET /predict/1.0/3.0 HTTP/1.1\" 200 -\n",
      "127.0.0.1 - - [28/Aug/2025 01:43:44] \"GET /plot HTTP/1.1\" 200 -\n",
      "127.0.0.1 - - [28/Aug/2025 01:44:24] \"\u001b[33mGET / HTTP/1.1\u001b[0m\" 404 -\n",
      "127.0.0.1 - - [28/Aug/2025 01:44:24] \"\u001b[33mGET /favicon.ico HTTP/1.1\u001b[0m\" 404 -\n"
     ]
    }
   ],
   "source": [
    "from flask import Flask, request, jsonify\n",
    "import threading\n",
    "import matplotlib.pyplot as plt\n",
    "import io\n",
    "import base64\n",
    "\n",
    "app = Flask(__name__)\n",
    "\n",
    "@app.route('/predict', methods=['POST'])\n",
    "def predict():\n",
    "    # TODO: Replace placeholder logic with actual model prediction\n",
    "    data = request.get_json()\n",
    "    features = data.get('features', None)\n",
    "    if features is None:\n",
    "        return jsonify({'error': 'No features provided'}), 400\n",
    "    pred = sum(features)  # placeholder\n",
    "    return jsonify({'prediction': pred})\n",
    "\n",
    "@app.route('/predict/<float:input1>', methods=['GET'])\n",
    "def predict_one(input1):\n",
    "    pred = input1 * 2  # placeholder\n",
    "    return jsonify({'prediction': pred})\n",
    "\n",
    "@app.route('/predict/<float:input1>/<float:input2>', methods=['GET'])\n",
    "def predict_two(input1, input2):\n",
    "    pred = input1 + input2  # placeholder\n",
    "    return jsonify({'prediction': pred})\n",
    "\n",
    "@app.route('/plot')\n",
    "def plot():\n",
    "    # TODO: Replace with meaningful chart or image\n",
    "    fig, ax = plt.subplots()\n",
    "    ax.plot([0, 1, 2], [0, 1, 4])\n",
    "    buf = io.BytesIO()\n",
    "    fig.savefig(buf, format='png')\n",
    "    buf.seek(0)\n",
    "    img_bytes = base64.b64encode(buf.read()).decode('utf-8')\n",
    "    return f'<img src=\"data:image/png;base64,{img_bytes}\"/>'\n",
    "\n",
    "def run_flask():\n",
    "    app.run(port=5000)\n",
    "\n",
    "# Launch Flask in a separate thread\n",
    "threading.Thread(target=run_flask).start()"
   ]
  },
  {
   "cell_type": "markdown",
   "metadata": {},
   "source": [
    "## 7. Testing the Flask API from Notebook\n",
    "\n",
    "### TODO: Modify examples with your actual features"
   ]
  },
  {
   "cell_type": "code",
   "execution_count": 9,
   "metadata": {},
   "outputs": [
    {
     "name": "stdout",
     "output_type": "stream",
     "text": [
      "{'prediction': 1.5}\n",
      "{'prediction': 4.0}\n",
      "{'prediction': 4.0}\n"
     ]
    },
    {
     "data": {
      "text/html": [
       "<img src=\"data:image/png;base64,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\"/>"
      ],
      "text/plain": [
       "<IPython.core.display.HTML object>"
      ]
     },
     "metadata": {},
     "output_type": "display_data"
    },
    {
     "data": {
      "image/png": "[encoded data removed]",
      "text/plain": [
       "<Figure size 640x480 with 1 Axes>"
      ]
     },
     "metadata": {},
     "output_type": "display_data"
    }
   ],
   "source": [
    "import requests\n",
    "from IPython.display import display, HTML\n",
    "\n",
    "# POST /predict\n",
    "response = requests.post(\n",
    "    'http://127.0.0.1:5000/predict',\n",
    "    json={'features':[0.2, 0.3, 0.2,0.1,0.3,0.4]}\n",
    ")\n",
    "print(response.json())\n",
    "\n",
    "# GET /predict/<input1>\n",
    "response2 = requests.get('http://127.0.0.1:5000/predict/2.0')\n",
    "print(response2.json())\n",
    "\n",
    "# GET /predict/<input1>/<input2>\n",
    "response3 = requests.get('http://127.0.0.1:5000/predict/1.0/3.0')\n",
    "print(response3.json())\n",
    "\n",
    "# GET /plot\n",
    "response_plot = requests.get('http://127.0.0.1:5000/plot')\n",
    "display(HTML(response_plot.text))"
   ]
  }
 ],
 "metadata": {
  "kernelspec": {
   "display_name": "bootcamp_env",
   "language": "python",
   "name": "python3"
  },
  "language_info": {
   "codemirror_mode": {
    "name": "ipython",
    "version": 3
   },
   "file_extension": ".py",
   "mimetype": "text/x-python",
   "name": "python",
   "nbconvert_exporter": "python",
   "pygments_lexer": "ipython3",
   "version": "3.13.5"
  }
 },
 "nbformat": 4,
 "nbformat_minor": 5
}
