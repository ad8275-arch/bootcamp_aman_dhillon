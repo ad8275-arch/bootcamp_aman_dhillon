{
 "cells": [
  {
   "cell_type": "markdown",
   "metadata": {},
   "source": [
    " ### Homework  Notebook\n",
    "\n",
    "### Generating Synthetic Dataset for Use"
   ]
  },
  {
   "cell_type": "code",
   "execution_count": 35,
   "id": "924cf682",
   "metadata": {},
   "outputs": [],
   "source": [
    "import pandas as pd\n",
    "import numpy as np\n",
    "from sklearn.preprocessing import PolynomialFeatures\n",
    "\n",
    "np.random.seed(123)\n",
    "n = 2500\n",
    "\n",
    "df = pd.DataFrame({\n",
    "    'user_id': range(1, n+1),\n",
    "    'sessions_per_week': np.random.poisson(lam=5, size=n),\n",
    "    'avg_session_time': np.random.normal(15, 5, size=n).clip(1, 60),  # minutes\n",
    "    'pages_viewed': np.random.poisson(lam=20, size=n).clip(1, 100),\n",
    "    'device': np.random.choice(['Mobile','Desktop','Tablet'], size=n, p=[0.6,0.3,0.1]),\n",
    "    'country': np.random.choice(['US','India','Germany','Brazil','Canada'], size=n),\n",
    "    'purchase_amount': np.random.lognormal(mean=3.2, sigma=0.7, size=n).round(2),\n",
    "    'churn_flag': np.random.choice([0,1], size=n, p=[0.75,0.25])  # 1=churned, 0=active\n",
    "})\n"
   ]
  },
  {
   "cell_type": "markdown",
   "id": "edfffca4",
   "metadata": {},
   "source": [
    "### Engagement ratio\n",
    "This feature measures how engaged a user is during each session. Someone who visits many pages per session is likely more curious or motivated to purchase \n",
    "than someone who opens the app frequently but only views a few pages. It captures depth of engagement rather than just frequency."
   ]
  },
  {
   "cell_type": "code",
   "execution_count": 36,
   "id": "8e7e5d72",
   "metadata": {},
   "outputs": [],
   "source": [
    "df['pages_per_session'] = (df['pages_viewed'] / df['sessions_per_week']).replace([np.inf, -np.inf], 0).round(2)\n"
   ]
  },
  {
   "cell_type": "markdown",
   "id": "9f22d14c",
   "metadata": {},
   "source": [
    "### Rolling mean of session time\n",
    "\n",
    "A rolling average of session time smooths out spikes from unusually short or long sessions. This helps models detect trends in user attention span over time, which can be a better predictor of churn or spending than any single session."
   ]
  },
  {
   "cell_type": "code",
   "execution_count": 37,
   "id": "6a496bc0",
   "metadata": {},
   "outputs": [],
   "source": [
    "df['rolling_session_time'] = df['avg_session_time'].rolling(3).mean().fillna(df['avg_session_time'])"
   ]
  },
  {
   "cell_type": "markdown",
   "id": "53302a18",
   "metadata": {},
   "source": [
    "### High spender flag\n",
    "\n",
    "This binary indicator distinguishes users who consistently spend more than the median. Splitting users into high vs. low spenders helps classification models, especially for churn or upselling predictions, by highlighting a segment of users with different value to the business."
   ]
  },
  {
   "cell_type": "code",
   "execution_count": 38,
   "id": "449d7315",
   "metadata": {},
   "outputs": [],
   "source": [
    "df['high_spender'] = (df['purchase_amount'] > df['purchase_amount'].median()).astype(int)"
   ]
  },
  {
   "cell_type": "markdown",
   "id": "8850dc2b",
   "metadata": {},
   "source": [
    "### Country frequency encoding\n",
    "Frequency encoding converts each country into its relative share of users. This captures how common or rare a country is in the dataset, which may correlate with business priorities or market size. Unlike one-hot encoding, it avoids creating many extra columns."
   ]
  },
  {
   "cell_type": "code",
   "execution_count": 39,
   "id": "3854af14",
   "metadata": {},
   "outputs": [],
   "source": [
    "country_freq = df['country'].value_counts(normalize=True)\n",
    "df['country_freq'] = df['country'].map(country_freq)"
   ]
  },
  {
   "cell_type": "markdown",
   "id": "226697db",
   "metadata": {},
   "source": [
    "### One-hot encoding for device\n",
    "Device type (Mobile, Desktop, Tablet) can strongly influence user behavior. For example, mobile users might have shorter sessions, while desktop users may browse more before purchasing. One-hot encoding ensures the model treats devices as distinct, not ordered."
   ]
  },
  {
   "cell_type": "code",
   "execution_count": 40,
   "id": "773fc4a9",
   "metadata": {},
   "outputs": [],
   "source": [
    "df = pd.get_dummies(df, columns=['device'], drop_first=True)"
   ]
  },
  {
   "cell_type": "markdown",
   "id": "ca368c69",
   "metadata": {},
   "source": [
    "### Polynomial & Interaction Features"
   ]
  },
  {
   "cell_type": "markdown",
   "id": "e593b6f7",
   "metadata": {},
   "source": [
    "### Interaction: pages viewed × session time\n",
    "Captures the intensity of user engagement. A user who spends a long time per session and views many pages is different from one who does only one of these. Interaction terms help models learn patterns that only appear when features combine."
   ]
  },
  {
   "cell_type": "code",
   "execution_count": 41,
   "id": "4efd2e0b",
   "metadata": {},
   "outputs": [],
   "source": [
    "df['pages_x_time'] = df['pages_viewed'] * df['avg_session_time']"
   ]
  },
  {
   "cell_type": "markdown",
   "id": "3c49e743",
   "metadata": {},
   "source": [
    "### Squared: purchase_amount\n",
    "Squaring amplifies the effect of extreme purchase values. For example, very high spenders may behave differently (VIP customers), and this transformation allows models to give more weight to these outliers."
   ]
  },
  {
   "cell_type": "code",
   "execution_count": 42,
   "id": "bfcdff26",
   "metadata": {},
   "outputs": [],
   "source": [
    "df['purchase_amount_sq'] = df['purchase_amount'] ** 2"
   ]
  },
  {
   "cell_type": "markdown",
   "id": "a8055a43",
   "metadata": {},
   "source": [
    "### Polynomial features for sessions + purchase_amount\n",
    "\n",
    "Adds squared terms and interaction between sessions and purchases. This captures nonlinear relationships such as “moderate sessions + moderate spend” being more predictive of churn than either extreme alone. Polynomial terms give models more flexibility to learn curved trends instead of straight lines."
   ]
  },
  {
   "cell_type": "code",
   "execution_count": 43,
   "id": "d1e9554f",
   "metadata": {},
   "outputs": [],
   "source": [
    "poly = PolynomialFeatures(degree=2, include_bias=False)\n",
    "poly_features = poly.fit_transform(df[['sessions_per_week','purchase_amount']])\n",
    "\n",
    "poly_df = pd.DataFrame(\n",
    "    poly_features,\n",
    "    columns=poly.get_feature_names_out(['sessions_per_week','purchase_amount'])\n",
    ")"
   ]
  },
  {
   "cell_type": "code",
   "execution_count": null,
   "id": "40a962c4",
   "metadata": {},
   "outputs": [
    {
     "data": {
      "text/html": [
       "<div>\n",
       "<style scoped>\n",
       "    .dataframe tbody tr th:only-of-type {\n",
       "        vertical-align: middle;\n",
       "    }\n",
       "\n",
       "    .dataframe tbody tr th {\n",
       "        vertical-align: top;\n",
       "    }\n",
       "\n",
       "    .dataframe thead th {\n",
       "        text-align: right;\n",
       "    }\n",
       "</style>\n",
       "<table border=\"1\" class=\"dataframe\">\n",
       "  <thead>\n",
       "    <tr style=\"text-align: right;\">\n",
       "      <th></th>\n",
       "      <th>user_id</th>\n",
       "      <th>sessions_per_week</th>\n",
       "      <th>avg_session_time</th>\n",
       "      <th>pages_viewed</th>\n",
       "      <th>country</th>\n",
       "      <th>purchase_amount</th>\n",
       "      <th>churn_flag</th>\n",
       "      <th>pages_per_session</th>\n",
       "      <th>rolling_session_time</th>\n",
       "      <th>high_spender</th>\n",
       "      <th>country_freq</th>\n",
       "      <th>device_Mobile</th>\n",
       "      <th>device_Tablet</th>\n",
       "      <th>pages_x_time</th>\n",
       "      <th>purchase_amount_sq</th>\n",
       "      <th>sessions_per_week</th>\n",
       "      <th>purchase_amount</th>\n",
       "      <th>sessions_per_week^2</th>\n",
       "      <th>sessions_per_week purchase_amount</th>\n",
       "      <th>purchase_amount^2</th>\n",
       "    </tr>\n",
       "  </thead>\n",
       "  <tbody>\n",
       "    <tr>\n",
       "      <th>0</th>\n",
       "      <td>1</td>\n",
       "      <td>7</td>\n",
       "      <td>16.951129</td>\n",
       "      <td>24</td>\n",
       "      <td>Brazil</td>\n",
       "      <td>46.03</td>\n",
       "      <td>0</td>\n",
       "      <td>3.43</td>\n",
       "      <td>16.951129</td>\n",
       "      <td>1</td>\n",
       "      <td>0.1920</td>\n",
       "      <td>True</td>\n",
       "      <td>False</td>\n",
       "      <td>406.827105</td>\n",
       "      <td>2118.7609</td>\n",
       "      <td>7.0</td>\n",
       "      <td>46.03</td>\n",
       "      <td>49.0</td>\n",
       "      <td>322.21</td>\n",
       "      <td>2118.7609</td>\n",
       "    </tr>\n",
       "    <tr>\n",
       "      <th>1</th>\n",
       "      <td>2</td>\n",
       "      <td>5</td>\n",
       "      <td>19.709662</td>\n",
       "      <td>18</td>\n",
       "      <td>Canada</td>\n",
       "      <td>15.61</td>\n",
       "      <td>1</td>\n",
       "      <td>3.60</td>\n",
       "      <td>19.709662</td>\n",
       "      <td>0</td>\n",
       "      <td>0.2080</td>\n",
       "      <td>True</td>\n",
       "      <td>False</td>\n",
       "      <td>354.773923</td>\n",
       "      <td>243.6721</td>\n",
       "      <td>5.0</td>\n",
       "      <td>15.61</td>\n",
       "      <td>25.0</td>\n",
       "      <td>78.05</td>\n",
       "      <td>243.6721</td>\n",
       "    </tr>\n",
       "    <tr>\n",
       "      <th>2</th>\n",
       "      <td>3</td>\n",
       "      <td>4</td>\n",
       "      <td>22.544426</td>\n",
       "      <td>32</td>\n",
       "      <td>US</td>\n",
       "      <td>28.88</td>\n",
       "      <td>0</td>\n",
       "      <td>8.00</td>\n",
       "      <td>19.735073</td>\n",
       "      <td>1</td>\n",
       "      <td>0.2068</td>\n",
       "      <td>False</td>\n",
       "      <td>True</td>\n",
       "      <td>721.421638</td>\n",
       "      <td>834.0544</td>\n",
       "      <td>4.0</td>\n",
       "      <td>28.88</td>\n",
       "      <td>16.0</td>\n",
       "      <td>115.52</td>\n",
       "      <td>834.0544</td>\n",
       "    </tr>\n",
       "    <tr>\n",
       "      <th>3</th>\n",
       "      <td>4</td>\n",
       "      <td>8</td>\n",
       "      <td>5.922137</td>\n",
       "      <td>26</td>\n",
       "      <td>India</td>\n",
       "      <td>35.74</td>\n",
       "      <td>0</td>\n",
       "      <td>3.25</td>\n",
       "      <td>16.058742</td>\n",
       "      <td>1</td>\n",
       "      <td>0.1932</td>\n",
       "      <td>False</td>\n",
       "      <td>False</td>\n",
       "      <td>153.975561</td>\n",
       "      <td>1277.3476</td>\n",
       "      <td>8.0</td>\n",
       "      <td>35.74</td>\n",
       "      <td>64.0</td>\n",
       "      <td>285.92</td>\n",
       "      <td>1277.3476</td>\n",
       "    </tr>\n",
       "    <tr>\n",
       "      <th>4</th>\n",
       "      <td>5</td>\n",
       "      <td>4</td>\n",
       "      <td>13.572359</td>\n",
       "      <td>18</td>\n",
       "      <td>US</td>\n",
       "      <td>35.79</td>\n",
       "      <td>1</td>\n",
       "      <td>4.50</td>\n",
       "      <td>14.012974</td>\n",
       "      <td>1</td>\n",
       "      <td>0.2068</td>\n",
       "      <td>False</td>\n",
       "      <td>False</td>\n",
       "      <td>244.302467</td>\n",
       "      <td>1280.9241</td>\n",
       "      <td>4.0</td>\n",
       "      <td>35.79</td>\n",
       "      <td>16.0</td>\n",
       "      <td>143.16</td>\n",
       "      <td>1280.9241</td>\n",
       "    </tr>\n",
       "  </tbody>\n",
       "</table>\n",
       "</div>"
      ],
      "text/plain": [
       "   user_id  sessions_per_week  avg_session_time  pages_viewed country  \\\n",
       "0        1                  7         16.951129            24  Brazil   \n",
       "1        2                  5         19.709662            18  Canada   \n",
       "2        3                  4         22.544426            32      US   \n",
       "3        4                  8          5.922137            26   India   \n",
       "4        5                  4         13.572359            18      US   \n",
       "\n",
       "   purchase_amount  churn_flag  pages_per_session  rolling_session_time  \\\n",
       "0            46.03           0               3.43             16.951129   \n",
       "1            15.61           1               3.60             19.709662   \n",
       "2            28.88           0               8.00             19.735073   \n",
       "3            35.74           0               3.25             16.058742   \n",
       "4            35.79           1               4.50             14.012974   \n",
       "\n",
       "   high_spender  country_freq  device_Mobile  device_Tablet  pages_x_time  \\\n",
       "0             1        0.1920           True          False    406.827105   \n",
       "1             0        0.2080           True          False    354.773923   \n",
       "2             1        0.2068          False           True    721.421638   \n",
       "3             1        0.1932          False          False    153.975561   \n",
       "4             1        0.2068          False          False    244.302467   \n",
       "\n",
       "   purchase_amount_sq  sessions_per_week  purchase_amount  \\\n",
       "0           2118.7609                7.0            46.03   \n",
       "1            243.6721                5.0            15.61   \n",
       "2            834.0544                4.0            28.88   \n",
       "3           1277.3476                8.0            35.74   \n",
       "4           1280.9241                4.0            35.79   \n",
       "\n",
       "   sessions_per_week^2  sessions_per_week purchase_amount  purchase_amount^2  \n",
       "0                 49.0                             322.21          2118.7609  \n",
       "1                 25.0                              78.05           243.6721  \n",
       "2                 16.0                             115.52           834.0544  \n",
       "3                 64.0                             285.92          1277.3476  \n",
       "4                 16.0                             143.16          1280.9241  "
      ]
     },
     "execution_count": 44,
     "metadata": {},
     "output_type": "execute_result"
    }
   ],
   "source": [
    "# Concatenate back\n",
    "df = pd.concat([df, poly_df], axis=1)\n",
    "df.head()"
   ]
  },
  {
   "cell_type": "code",
   "execution_count": null,
   "id": "5ba87b42",
   "metadata": {},
   "outputs": [],
   "source": []
  }
 ],
 "metadata": {
  "kernelspec": {
   "display_name": "bootcamp_env",
   "language": "python",
   "name": "python3"
  },
  "language_info": {
   "codemirror_mode": {
    "name": "ipython",
    "version": 3
   },
   "file_extension": ".py",
   "mimetype": "text/x-python",
   "name": "python",
   "nbconvert_exporter": "python",
   "pygments_lexer": "ipython3",
   "version": "3.13.5"
  }
 },
 "nbformat": 4,
 "nbformat_minor": 5
}
